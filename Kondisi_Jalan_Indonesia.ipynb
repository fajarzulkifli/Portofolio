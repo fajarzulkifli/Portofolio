{
  "nbformat": 4,
  "nbformat_minor": 0,
  "metadata": {
    "colab": {
      "provenance": [],
      "toc_visible": true,
      "authorship_tag": "ABX9TyP/dNbyFgP+TXCVMnTrG1T0",
      "include_colab_link": true
    },
    "kernelspec": {
      "name": "python3",
      "display_name": "Python 3"
    },
    "language_info": {
      "name": "python"
    }
  },
  "cells": [
    {
      "cell_type": "markdown",
      "metadata": {
        "id": "view-in-github",
        "colab_type": "text"
      },
      "source": [
        "<a href=\"https://colab.research.google.com/github/fajarzulkifli/Portofolio/blob/main/Kondisi_Jalan_Indonesia.ipynb\" target=\"_parent\"><img src=\"https://colab.research.google.com/assets/colab-badge.svg\" alt=\"Open In Colab\"/></a>"
      ]
    },
    {
      "cell_type": "markdown",
      "source": [
        "# **REKOMENDASI PERBAIKAN KONDISI JALAN RUSAK DI INDONESIA**\n",
        "\n",
        "Nama : Muhammad Fajar Zulkifli\n",
        "\n",
        "Percepatan perbaikan infrastruktur dan pelayanan masyarakat dalam akses antar provinsi dilakukan analisa data untuk mendapatkan rekomendasi pengelompokan data terkait kondisi jalan rusak di seluruh provinsi di Indonesia. Pengelompokan ini **bertujuan** untuk mempermudah pemetaan, serta perencanaan langkah-langkah perbaikan yang lebih efektif dan terarah pada masa mendatang."
      ],
      "metadata": {
        "id": "jLSDQXRyYK2F"
      }
    },
    {
      "cell_type": "code",
      "source": [
        "#Menambahkan Library\n",
        "import pandas as pd #membuat data\n",
        "import numpy as np #operasi pada data\n",
        "import matplotlib.pyplot as plt  #visualisasi data\n",
        "import seaborn as sns  # visualisasi"
      ],
      "metadata": {
        "id": "GhaVVT4nX-Fh"
      },
      "execution_count": null,
      "outputs": []
    },
    {
      "cell_type": "markdown",
      "source": [
        "## **J.62DMI00.001.1 - Mengumpulkan Data**\n",
        "\n",
        "mengumpulkan data **kondisi permukaan jalan provinsi tahun 2021-2023** dengan penjelasan variabel sebagai berikut:\n",
        "Kd_Prov,\n",
        "Provinsi,\n",
        "Kondisi_Baik(km),\n",
        "Baik_%,\n",
        "Kondisi_Sedang(km),\n",
        "Sedang_%,\n",
        "Kondisi_RR(km),\n",
        "RR_%,\n",
        "Kondisi_RB(km),\n",
        "RB_%,\n",
        "Total_Panjang(km)\n",
        "data yang dikumpulkan adalah  data legal hasil dari collecting peneliti pada website : https://data.pu.go.id/dataset/kondisi-permukaan-jalan-provinsi"
      ],
      "metadata": {
        "id": "XlQYtzKpCTKA"
      }
    },
    {
      "cell_type": "code",
      "source": [
        "# Load dataset\n",
        "\n",
        "file_path = 'Kondisi Permukaan Jalan Provinsi Tahun 2021-2023.csv'\n",
        "data = pd.read_csv(file_path, sep=';')\n",
        "data.head()"
      ],
      "metadata": {
        "colab": {
          "base_uri": "https://localhost:8080/",
          "height": 261
        },
        "id": "-SU06DG0GIRW",
        "outputId": "66aa907b-6104-4204-ccd7-1b0166d2a837"
      },
      "execution_count": null,
      "outputs": [
        {
          "output_type": "execute_result",
          "data": {
            "text/plain": [
              "   Kd_Prov  Tahun        Provinsi Kondisi_Baik       Baik_% Kondisi_Sedang  \\\n",
              "0       11   2021            Aceh      1317.98  73.97234133          95.93   \n",
              "1       12   2021  Sumatera Utara      1319.67   43.2891586        1188.19   \n",
              "2       13   2021  Sumatera Barat       786.12  51.54209284         341.28   \n",
              "3       14   2021            Riau     1402.005  50.07500509        324.316   \n",
              "4       15   2021           Jambi      322.326  31.20761703         460.15   \n",
              "\n",
              "      Sedang_% Kondisi_RR         RR_% Kondisi_RB         RB_% Total_Panjang  \n",
              "0  5.384123207       61.5  3.451720809     306.31  17.19181465       1781.72  \n",
              "1  38.97621781     208.55  6.841069378     332.09  10.89355421        3048.5  \n",
              "2  22.37608183        210  13.76868607      187.8  12.31313926        1525.2  \n",
              "3  11.58350031    440.746  15.74199678    632.743  22.59949782       2799.81  \n",
              "4  44.55174257    134.426  13.01513104    115.942  11.22550937      1032.844  "
            ],
            "text/html": [
              "\n",
              "  <div id=\"df-dd9810de-ea43-4d92-a317-1afc0096beef\" class=\"colab-df-container\">\n",
              "    <div>\n",
              "<style scoped>\n",
              "    .dataframe tbody tr th:only-of-type {\n",
              "        vertical-align: middle;\n",
              "    }\n",
              "\n",
              "    .dataframe tbody tr th {\n",
              "        vertical-align: top;\n",
              "    }\n",
              "\n",
              "    .dataframe thead th {\n",
              "        text-align: right;\n",
              "    }\n",
              "</style>\n",
              "<table border=\"1\" class=\"dataframe\">\n",
              "  <thead>\n",
              "    <tr style=\"text-align: right;\">\n",
              "      <th></th>\n",
              "      <th>Kd_Prov</th>\n",
              "      <th>Tahun</th>\n",
              "      <th>Provinsi</th>\n",
              "      <th>Kondisi_Baik</th>\n",
              "      <th>Baik_%</th>\n",
              "      <th>Kondisi_Sedang</th>\n",
              "      <th>Sedang_%</th>\n",
              "      <th>Kondisi_RR</th>\n",
              "      <th>RR_%</th>\n",
              "      <th>Kondisi_RB</th>\n",
              "      <th>RB_%</th>\n",
              "      <th>Total_Panjang</th>\n",
              "    </tr>\n",
              "  </thead>\n",
              "  <tbody>\n",
              "    <tr>\n",
              "      <th>0</th>\n",
              "      <td>11</td>\n",
              "      <td>2021</td>\n",
              "      <td>Aceh</td>\n",
              "      <td>1317.98</td>\n",
              "      <td>73.97234133</td>\n",
              "      <td>95.93</td>\n",
              "      <td>5.384123207</td>\n",
              "      <td>61.5</td>\n",
              "      <td>3.451720809</td>\n",
              "      <td>306.31</td>\n",
              "      <td>17.19181465</td>\n",
              "      <td>1781.72</td>\n",
              "    </tr>\n",
              "    <tr>\n",
              "      <th>1</th>\n",
              "      <td>12</td>\n",
              "      <td>2021</td>\n",
              "      <td>Sumatera Utara</td>\n",
              "      <td>1319.67</td>\n",
              "      <td>43.2891586</td>\n",
              "      <td>1188.19</td>\n",
              "      <td>38.97621781</td>\n",
              "      <td>208.55</td>\n",
              "      <td>6.841069378</td>\n",
              "      <td>332.09</td>\n",
              "      <td>10.89355421</td>\n",
              "      <td>3048.5</td>\n",
              "    </tr>\n",
              "    <tr>\n",
              "      <th>2</th>\n",
              "      <td>13</td>\n",
              "      <td>2021</td>\n",
              "      <td>Sumatera Barat</td>\n",
              "      <td>786.12</td>\n",
              "      <td>51.54209284</td>\n",
              "      <td>341.28</td>\n",
              "      <td>22.37608183</td>\n",
              "      <td>210</td>\n",
              "      <td>13.76868607</td>\n",
              "      <td>187.8</td>\n",
              "      <td>12.31313926</td>\n",
              "      <td>1525.2</td>\n",
              "    </tr>\n",
              "    <tr>\n",
              "      <th>3</th>\n",
              "      <td>14</td>\n",
              "      <td>2021</td>\n",
              "      <td>Riau</td>\n",
              "      <td>1402.005</td>\n",
              "      <td>50.07500509</td>\n",
              "      <td>324.316</td>\n",
              "      <td>11.58350031</td>\n",
              "      <td>440.746</td>\n",
              "      <td>15.74199678</td>\n",
              "      <td>632.743</td>\n",
              "      <td>22.59949782</td>\n",
              "      <td>2799.81</td>\n",
              "    </tr>\n",
              "    <tr>\n",
              "      <th>4</th>\n",
              "      <td>15</td>\n",
              "      <td>2021</td>\n",
              "      <td>Jambi</td>\n",
              "      <td>322.326</td>\n",
              "      <td>31.20761703</td>\n",
              "      <td>460.15</td>\n",
              "      <td>44.55174257</td>\n",
              "      <td>134.426</td>\n",
              "      <td>13.01513104</td>\n",
              "      <td>115.942</td>\n",
              "      <td>11.22550937</td>\n",
              "      <td>1032.844</td>\n",
              "    </tr>\n",
              "  </tbody>\n",
              "</table>\n",
              "</div>\n",
              "    <div class=\"colab-df-buttons\">\n",
              "\n",
              "  <div class=\"colab-df-container\">\n",
              "    <button class=\"colab-df-convert\" onclick=\"convertToInteractive('df-dd9810de-ea43-4d92-a317-1afc0096beef')\"\n",
              "            title=\"Convert this dataframe to an interactive table.\"\n",
              "            style=\"display:none;\">\n",
              "\n",
              "  <svg xmlns=\"http://www.w3.org/2000/svg\" height=\"24px\" viewBox=\"0 -960 960 960\">\n",
              "    <path d=\"M120-120v-720h720v720H120Zm60-500h600v-160H180v160Zm220 220h160v-160H400v160Zm0 220h160v-160H400v160ZM180-400h160v-160H180v160Zm440 0h160v-160H620v160ZM180-180h160v-160H180v160Zm440 0h160v-160H620v160Z\"/>\n",
              "  </svg>\n",
              "    </button>\n",
              "\n",
              "  <style>\n",
              "    .colab-df-container {\n",
              "      display:flex;\n",
              "      gap: 12px;\n",
              "    }\n",
              "\n",
              "    .colab-df-convert {\n",
              "      background-color: #E8F0FE;\n",
              "      border: none;\n",
              "      border-radius: 50%;\n",
              "      cursor: pointer;\n",
              "      display: none;\n",
              "      fill: #1967D2;\n",
              "      height: 32px;\n",
              "      padding: 0 0 0 0;\n",
              "      width: 32px;\n",
              "    }\n",
              "\n",
              "    .colab-df-convert:hover {\n",
              "      background-color: #E2EBFA;\n",
              "      box-shadow: 0px 1px 2px rgba(60, 64, 67, 0.3), 0px 1px 3px 1px rgba(60, 64, 67, 0.15);\n",
              "      fill: #174EA6;\n",
              "    }\n",
              "\n",
              "    .colab-df-buttons div {\n",
              "      margin-bottom: 4px;\n",
              "    }\n",
              "\n",
              "    [theme=dark] .colab-df-convert {\n",
              "      background-color: #3B4455;\n",
              "      fill: #D2E3FC;\n",
              "    }\n",
              "\n",
              "    [theme=dark] .colab-df-convert:hover {\n",
              "      background-color: #434B5C;\n",
              "      box-shadow: 0px 1px 3px 1px rgba(0, 0, 0, 0.15);\n",
              "      filter: drop-shadow(0px 1px 2px rgba(0, 0, 0, 0.3));\n",
              "      fill: #FFFFFF;\n",
              "    }\n",
              "  </style>\n",
              "\n",
              "    <script>\n",
              "      const buttonEl =\n",
              "        document.querySelector('#df-dd9810de-ea43-4d92-a317-1afc0096beef button.colab-df-convert');\n",
              "      buttonEl.style.display =\n",
              "        google.colab.kernel.accessAllowed ? 'block' : 'none';\n",
              "\n",
              "      async function convertToInteractive(key) {\n",
              "        const element = document.querySelector('#df-dd9810de-ea43-4d92-a317-1afc0096beef');\n",
              "        const dataTable =\n",
              "          await google.colab.kernel.invokeFunction('convertToInteractive',\n",
              "                                                    [key], {});\n",
              "        if (!dataTable) return;\n",
              "\n",
              "        const docLinkHtml = 'Like what you see? Visit the ' +\n",
              "          '<a target=\"_blank\" href=https://colab.research.google.com/notebooks/data_table.ipynb>data table notebook</a>'\n",
              "          + ' to learn more about interactive tables.';\n",
              "        element.innerHTML = '';\n",
              "        dataTable['output_type'] = 'display_data';\n",
              "        await google.colab.output.renderOutput(dataTable, element);\n",
              "        const docLink = document.createElement('div');\n",
              "        docLink.innerHTML = docLinkHtml;\n",
              "        element.appendChild(docLink);\n",
              "      }\n",
              "    </script>\n",
              "  </div>\n",
              "\n",
              "\n",
              "<div id=\"df-c8e8f8a6-97c4-4fef-969e-72ccc28cb56b\">\n",
              "  <button class=\"colab-df-quickchart\" onclick=\"quickchart('df-c8e8f8a6-97c4-4fef-969e-72ccc28cb56b')\"\n",
              "            title=\"Suggest charts\"\n",
              "            style=\"display:none;\">\n",
              "\n",
              "<svg xmlns=\"http://www.w3.org/2000/svg\" height=\"24px\"viewBox=\"0 0 24 24\"\n",
              "     width=\"24px\">\n",
              "    <g>\n",
              "        <path d=\"M19 3H5c-1.1 0-2 .9-2 2v14c0 1.1.9 2 2 2h14c1.1 0 2-.9 2-2V5c0-1.1-.9-2-2-2zM9 17H7v-7h2v7zm4 0h-2V7h2v10zm4 0h-2v-4h2v4z\"/>\n",
              "    </g>\n",
              "</svg>\n",
              "  </button>\n",
              "\n",
              "<style>\n",
              "  .colab-df-quickchart {\n",
              "      --bg-color: #E8F0FE;\n",
              "      --fill-color: #1967D2;\n",
              "      --hover-bg-color: #E2EBFA;\n",
              "      --hover-fill-color: #174EA6;\n",
              "      --disabled-fill-color: #AAA;\n",
              "      --disabled-bg-color: #DDD;\n",
              "  }\n",
              "\n",
              "  [theme=dark] .colab-df-quickchart {\n",
              "      --bg-color: #3B4455;\n",
              "      --fill-color: #D2E3FC;\n",
              "      --hover-bg-color: #434B5C;\n",
              "      --hover-fill-color: #FFFFFF;\n",
              "      --disabled-bg-color: #3B4455;\n",
              "      --disabled-fill-color: #666;\n",
              "  }\n",
              "\n",
              "  .colab-df-quickchart {\n",
              "    background-color: var(--bg-color);\n",
              "    border: none;\n",
              "    border-radius: 50%;\n",
              "    cursor: pointer;\n",
              "    display: none;\n",
              "    fill: var(--fill-color);\n",
              "    height: 32px;\n",
              "    padding: 0;\n",
              "    width: 32px;\n",
              "  }\n",
              "\n",
              "  .colab-df-quickchart:hover {\n",
              "    background-color: var(--hover-bg-color);\n",
              "    box-shadow: 0 1px 2px rgba(60, 64, 67, 0.3), 0 1px 3px 1px rgba(60, 64, 67, 0.15);\n",
              "    fill: var(--button-hover-fill-color);\n",
              "  }\n",
              "\n",
              "  .colab-df-quickchart-complete:disabled,\n",
              "  .colab-df-quickchart-complete:disabled:hover {\n",
              "    background-color: var(--disabled-bg-color);\n",
              "    fill: var(--disabled-fill-color);\n",
              "    box-shadow: none;\n",
              "  }\n",
              "\n",
              "  .colab-df-spinner {\n",
              "    border: 2px solid var(--fill-color);\n",
              "    border-color: transparent;\n",
              "    border-bottom-color: var(--fill-color);\n",
              "    animation:\n",
              "      spin 1s steps(1) infinite;\n",
              "  }\n",
              "\n",
              "  @keyframes spin {\n",
              "    0% {\n",
              "      border-color: transparent;\n",
              "      border-bottom-color: var(--fill-color);\n",
              "      border-left-color: var(--fill-color);\n",
              "    }\n",
              "    20% {\n",
              "      border-color: transparent;\n",
              "      border-left-color: var(--fill-color);\n",
              "      border-top-color: var(--fill-color);\n",
              "    }\n",
              "    30% {\n",
              "      border-color: transparent;\n",
              "      border-left-color: var(--fill-color);\n",
              "      border-top-color: var(--fill-color);\n",
              "      border-right-color: var(--fill-color);\n",
              "    }\n",
              "    40% {\n",
              "      border-color: transparent;\n",
              "      border-right-color: var(--fill-color);\n",
              "      border-top-color: var(--fill-color);\n",
              "    }\n",
              "    60% {\n",
              "      border-color: transparent;\n",
              "      border-right-color: var(--fill-color);\n",
              "    }\n",
              "    80% {\n",
              "      border-color: transparent;\n",
              "      border-right-color: var(--fill-color);\n",
              "      border-bottom-color: var(--fill-color);\n",
              "    }\n",
              "    90% {\n",
              "      border-color: transparent;\n",
              "      border-bottom-color: var(--fill-color);\n",
              "    }\n",
              "  }\n",
              "</style>\n",
              "\n",
              "  <script>\n",
              "    async function quickchart(key) {\n",
              "      const quickchartButtonEl =\n",
              "        document.querySelector('#' + key + ' button');\n",
              "      quickchartButtonEl.disabled = true;  // To prevent multiple clicks.\n",
              "      quickchartButtonEl.classList.add('colab-df-spinner');\n",
              "      try {\n",
              "        const charts = await google.colab.kernel.invokeFunction(\n",
              "            'suggestCharts', [key], {});\n",
              "      } catch (error) {\n",
              "        console.error('Error during call to suggestCharts:', error);\n",
              "      }\n",
              "      quickchartButtonEl.classList.remove('colab-df-spinner');\n",
              "      quickchartButtonEl.classList.add('colab-df-quickchart-complete');\n",
              "    }\n",
              "    (() => {\n",
              "      let quickchartButtonEl =\n",
              "        document.querySelector('#df-c8e8f8a6-97c4-4fef-969e-72ccc28cb56b button');\n",
              "      quickchartButtonEl.style.display =\n",
              "        google.colab.kernel.accessAllowed ? 'block' : 'none';\n",
              "    })();\n",
              "  </script>\n",
              "</div>\n",
              "\n",
              "    </div>\n",
              "  </div>\n"
            ],
            "application/vnd.google.colaboratory.intrinsic+json": {
              "type": "dataframe",
              "variable_name": "data",
              "summary": "{\n  \"name\": \"data\",\n  \"rows\": 106,\n  \"fields\": [\n    {\n      \"column\": \"Kd_Prov\",\n      \"properties\": {\n        \"dtype\": \"number\",\n        \"std\": 27,\n        \"min\": 11,\n        \"max\": 96,\n        \"num_unique_values\": 38,\n        \"samples\": [\n          94,\n          95,\n          15\n        ],\n        \"semantic_type\": \"\",\n        \"description\": \"\"\n      }\n    },\n    {\n      \"column\": \"Tahun\",\n      \"properties\": {\n        \"dtype\": \"number\",\n        \"std\": 0,\n        \"min\": 2021,\n        \"max\": 2023,\n        \"num_unique_values\": 3,\n        \"samples\": [\n          2021,\n          2022,\n          2023\n        ],\n        \"semantic_type\": \"\",\n        \"description\": \"\"\n      }\n    },\n    {\n      \"column\": \"Provinsi\",\n      \"properties\": {\n        \"dtype\": \"category\",\n        \"num_unique_values\": 39,\n        \"samples\": [\n          \"Papua\",\n          \"Papua Tengah\",\n          \"Jambi\"\n        ],\n        \"semantic_type\": \"\",\n        \"description\": \"\"\n      }\n    },\n    {\n      \"column\": \"Kondisi_Baik\",\n      \"properties\": {\n        \"dtype\": \"string\",\n        \"num_unique_values\": 103,\n        \"samples\": [\n          \"477.817\",\n          \"1243.23\",\n          \"515.38\"\n        ],\n        \"semantic_type\": \"\",\n        \"description\": \"\"\n      }\n    },\n    {\n      \"column\": \"Baik_%\",\n      \"properties\": {\n        \"dtype\": \"string\",\n        \"num_unique_values\": 104,\n        \"samples\": [\n          \"37.42289341\",\n          \"34.71\",\n          \"33.54\"\n        ],\n        \"semantic_type\": \"\",\n        \"description\": \"\"\n      }\n    },\n    {\n      \"column\": \"Kondisi_Sedang\",\n      \"properties\": {\n        \"dtype\": \"string\",\n        \"num_unique_values\": 103,\n        \"samples\": [\n          \"210.433\",\n          \"1176.75\",\n          \"147.6\"\n        ],\n        \"semantic_type\": \"\",\n        \"description\": \"\"\n      }\n    },\n    {\n      \"column\": \"Sedang_%\",\n      \"properties\": {\n        \"dtype\": \"string\",\n        \"num_unique_values\": 103,\n        \"samples\": [\n          \"16.4812297\",\n          \"39.15\",\n          \"13.66\"\n        ],\n        \"semantic_type\": \"\",\n        \"description\": \"\"\n      }\n    },\n    {\n      \"column\": \"Kondisi_RR\",\n      \"properties\": {\n        \"dtype\": \"string\",\n        \"num_unique_values\": 103,\n        \"samples\": [\n          \"256.156\",\n          \"137.35\",\n          \"35.18\"\n        ],\n        \"semantic_type\": \"\",\n        \"description\": \"\"\n      }\n    },\n    {\n      \"column\": \"RR_%\",\n      \"properties\": {\n        \"dtype\": \"string\",\n        \"num_unique_values\": 103,\n        \"samples\": [\n          \"20.06228051\",\n          \"4.57\",\n          \"3.26\"\n        ],\n        \"semantic_type\": \"\",\n        \"description\": \"\"\n      }\n    },\n    {\n      \"column\": \"Kondisi_RB\",\n      \"properties\": {\n        \"dtype\": \"string\",\n        \"num_unique_values\": 96,\n        \"samples\": [\n          \"96.42\",\n          \"30.5\",\n          \"61.28\"\n        ],\n        \"semantic_type\": \"\",\n        \"description\": \"\"\n      }\n    },\n    {\n      \"column\": \"RB_%\",\n      \"properties\": {\n        \"dtype\": \"string\",\n        \"num_unique_values\": 98,\n        \"samples\": [\n          \"27.19\",\n          \"5.21\",\n          \"70.60\"\n        ],\n        \"semantic_type\": \"\",\n        \"description\": \"\"\n      }\n    },\n    {\n      \"column\": \"Total_Panjang\",\n      \"properties\": {\n        \"dtype\": \"string\",\n        \"num_unique_values\": 81,\n        \"samples\": [\n          \"1276.804\",\n          \"1781.72\",\n          \"851.877\"\n        ],\n        \"semantic_type\": \"\",\n        \"description\": \"\"\n      }\n    }\n  ]\n}"
            }
          },
          "metadata": {},
          "execution_count": 63
        }
      ]
    },
    {
      "cell_type": "markdown",
      "source": [
        "## **J.62DMI00.010.1 - Menentukan Label Data**\n",
        "\n",
        "Tujuan : menentukan label/variabel yang akan dilakukan analisis,\n",
        "label yang akan digunakan analisis yaitu Provinsi,Kondisi jalan rusak ringan(Kondisi_RR), Kondisi jalan rusak berat (Kondisi_RB), dan Panjang Jalan."
      ],
      "metadata": {
        "id": "XGjRRWdlJK7h"
      }
    },
    {
      "cell_type": "code",
      "source": [
        "print(data.columns)"
      ],
      "metadata": {
        "colab": {
          "base_uri": "https://localhost:8080/"
        },
        "id": "ndT1AD5-J1HQ",
        "outputId": "a7a457d5-8095-4b5b-e8a7-e5becafde265"
      },
      "execution_count": null,
      "outputs": [
        {
          "output_type": "stream",
          "name": "stdout",
          "text": [
            "Index(['Kd_Prov', 'Tahun', 'Provinsi', 'Kondisi_Baik', 'Baik_%',\n",
            "       'Kondisi_Sedang', 'Sedang_%', 'Kondisi_RR', 'RR_%', 'Kondisi_RB',\n",
            "       'RB_%', 'Total_Panjang'],\n",
            "      dtype='object')\n"
          ]
        }
      ]
    },
    {
      "cell_type": "markdown",
      "source": [
        "## **J.62DMI00.007.1 - Menentukan Objek Data**\n",
        "\n",
        "Objek yang akan dianalisis adalah kondisi jalan berdasarkan provinsi dan tahun. Variabel yang relevan termasuk panjang jalan untuk setiap kategori jalan rusak (RR, RB)."
      ],
      "metadata": {
        "id": "AAqf8lozKJVp"
      }
    },
    {
      "cell_type": "code",
      "source": [
        "print(data.head())"
      ],
      "metadata": {
        "colab": {
          "base_uri": "https://localhost:8080/"
        },
        "id": "Bhbs3XfkLnds",
        "outputId": "491f139f-5817-44d5-db0a-671da0c96074"
      },
      "execution_count": null,
      "outputs": [
        {
          "output_type": "stream",
          "name": "stdout",
          "text": [
            "   Kd_Prov  Tahun        Provinsi Kondisi_Baik       Baik_% Kondisi_Sedang  \\\n",
            "0       11   2021            Aceh      1317.98  73.97234133          95.93   \n",
            "1       12   2021  Sumatera Utara      1319.67   43.2891586        1188.19   \n",
            "2       13   2021  Sumatera Barat       786.12  51.54209284         341.28   \n",
            "3       14   2021            Riau     1402.005  50.07500509        324.316   \n",
            "4       15   2021           Jambi      322.326  31.20761703         460.15   \n",
            "\n",
            "      Sedang_% Kondisi_RR         RR_% Kondisi_RB         RB_% Total_Panjang  \n",
            "0  5.384123207       61.5  3.451720809     306.31  17.19181465       1781.72  \n",
            "1  38.97621781     208.55  6.841069378     332.09  10.89355421        3048.5  \n",
            "2  22.37608183        210  13.76868607      187.8  12.31313926        1525.2  \n",
            "3  11.58350031    440.746  15.74199678    632.743  22.59949782       2799.81  \n",
            "4  44.55174257    134.426  13.01513104    115.942  11.22550937      1032.844  \n"
          ]
        }
      ]
    },
    {
      "cell_type": "markdown",
      "source": [
        "## **J.62DMI00.005.1 - Menelaah Data**\n",
        "\n",
        "Melakukan eksplorasi data untuk memahami informasi yang terkandung pada masing-masing variabel.Mari kita lihat statistik deskriptif untuk memahami distribusi dan variabilitas data."
      ],
      "metadata": {
        "id": "vW4UgGXkL3cB"
      }
    },
    {
      "cell_type": "code",
      "source": [
        "print(data.describe())"
      ],
      "metadata": {
        "colab": {
          "base_uri": "https://localhost:8080/"
        },
        "id": "-Oo9YWHrMp7S",
        "outputId": "05bcf9d2-98df-431d-a6c9-8e07a4ff2c7d"
      },
      "execution_count": null,
      "outputs": [
        {
          "output_type": "stream",
          "name": "stdout",
          "text": [
            "          Kd_Prov        Tahun\n",
            "count  106.000000   106.000000\n",
            "mean    49.311321  2022.037736\n",
            "std     27.227564     0.827210\n",
            "min     11.000000  2021.000000\n",
            "25%     19.500000  2021.000000\n",
            "50%     52.000000  2022.000000\n",
            "75%     73.000000  2023.000000\n",
            "max     96.000000  2023.000000\n"
          ]
        }
      ]
    },
    {
      "cell_type": "markdown",
      "source": [
        "hanya muncul 2 kolom saja Kd_Prov dan Tahun\n",
        "terdapat kemungkinan kolom/variabel yang lain belum bernilai integer sehingga tidak terbaca saat dilakukan statistika deskriptif\n"
      ],
      "metadata": {
        "id": "NcQAaS_fNYYQ"
      }
    },
    {
      "cell_type": "markdown",
      "source": [
        "## **J.62DMI00.006.1 - Memvalidasi Data**\n",
        "\n",
        "memvalidasi memeriksa apakah ada nilai yang hilang atau tidak konsisten, atau terdapat kesalahan format pada tabel yang dipanggil, serta memeriksa adanya missing value."
      ],
      "metadata": {
        "id": "RIIUMJXJOGXX"
      }
    },
    {
      "cell_type": "code",
      "source": [
        "data.info()"
      ],
      "metadata": {
        "colab": {
          "base_uri": "https://localhost:8080/"
        },
        "id": "1T0EwdA5Nnkl",
        "outputId": "a19ac78c-4fc9-440e-c666-0ec1ffa737e3"
      },
      "execution_count": null,
      "outputs": [
        {
          "output_type": "stream",
          "name": "stdout",
          "text": [
            "<class 'pandas.core.frame.DataFrame'>\n",
            "RangeIndex: 106 entries, 0 to 105\n",
            "Data columns (total 12 columns):\n",
            " #   Column          Non-Null Count  Dtype \n",
            "---  ------          --------------  ----- \n",
            " 0   Kd_Prov         106 non-null    int64 \n",
            " 1   Tahun           106 non-null    int64 \n",
            " 2   Provinsi        106 non-null    object\n",
            " 3   Kondisi_Baik    106 non-null    object\n",
            " 4   Baik_%          106 non-null    object\n",
            " 5   Kondisi_Sedang  106 non-null    object\n",
            " 6   Sedang_%        106 non-null    object\n",
            " 7   Kondisi_RR      106 non-null    object\n",
            " 8   RR_%            106 non-null    object\n",
            " 9   Kondisi_RB      106 non-null    object\n",
            " 10  RB_%            106 non-null    object\n",
            " 11  Total_Panjang   106 non-null    object\n",
            "dtypes: int64(2), object(10)\n",
            "memory usage: 10.1+ KB\n"
          ]
        }
      ]
    },
    {
      "cell_type": "markdown",
      "source": [
        "tidak terdapat missing data pada dataset.\n",
        "kita lakukan perbaikan jenis kolom yang memiliki tipe data Object."
      ],
      "metadata": {
        "id": "9Noq0-S1NwCi"
      }
    },
    {
      "cell_type": "code",
      "source": [
        "# mengubah kolom dari kolom 3 hingga 11 menjadi type integer\n",
        "\n",
        "for i in range(3, 12):  # mengubah dari kolom 3-12\n",
        "  column_name = data.columns[i]\n",
        "  data[column_name] = pd.to_numeric(data[column_name], errors='coerce')\n",
        "  data[column_name] = data[column_name].fillna(0).astype(int)  # mengisi data kosong dengan 0 dan mengubah menjadi tipe integer\n",
        "data['Tahun'] = data['Tahun'].astype(str)  # mengubah kolom 'Tahun' menjadi tipe integer\n",
        "data.info()"
      ],
      "metadata": {
        "colab": {
          "base_uri": "https://localhost:8080/"
        },
        "id": "c6NGMmIGPAw-",
        "outputId": "0afb27d2-560f-4cde-98e5-ca40d05ab8bc"
      },
      "execution_count": null,
      "outputs": [
        {
          "output_type": "stream",
          "name": "stdout",
          "text": [
            "<class 'pandas.core.frame.DataFrame'>\n",
            "RangeIndex: 106 entries, 0 to 105\n",
            "Data columns (total 12 columns):\n",
            " #   Column          Non-Null Count  Dtype \n",
            "---  ------          --------------  ----- \n",
            " 0   Kd_Prov         106 non-null    int64 \n",
            " 1   Tahun           106 non-null    object\n",
            " 2   Provinsi        106 non-null    object\n",
            " 3   Kondisi_Baik    106 non-null    int64 \n",
            " 4   Baik_%          106 non-null    int64 \n",
            " 5   Kondisi_Sedang  106 non-null    int64 \n",
            " 6   Sedang_%        106 non-null    int64 \n",
            " 7   Kondisi_RR      106 non-null    int64 \n",
            " 8   RR_%            106 non-null    int64 \n",
            " 9   Kondisi_RB      106 non-null    int64 \n",
            " 10  RB_%            106 non-null    int64 \n",
            " 11  Total_Panjang   106 non-null    int64 \n",
            "dtypes: int64(10), object(2)\n",
            "memory usage: 10.1+ KB\n"
          ]
        }
      ]
    },
    {
      "cell_type": "code",
      "source": [
        "data.describe()"
      ],
      "metadata": {
        "colab": {
          "base_uri": "https://localhost:8080/",
          "height": 300
        },
        "id": "w8CZwNmwRX3Y",
        "outputId": "7771d2bb-6cdf-49e8-b0e7-1b9bff7d9a40"
      },
      "execution_count": null,
      "outputs": [
        {
          "output_type": "execute_result",
          "data": {
            "text/plain": [
              "          Kd_Prov  Kondisi_Baik      Baik_%  Kondisi_Sedang    Sedang_%  \\\n",
              "count  106.000000    106.000000  106.000000      106.000000  106.000000   \n",
              "mean    49.311321    607.254717   48.584906      244.528302   17.292453   \n",
              "std     27.227564    456.721110   21.060397      229.864606   13.083590   \n",
              "min     11.000000      0.000000    0.000000        0.000000    0.000000   \n",
              "25%     19.500000    288.250000   35.000000       75.000000    7.000000   \n",
              "50%     52.000000    542.000000   48.500000      191.000000   13.000000   \n",
              "75%     73.000000    836.500000   64.000000      366.500000   25.000000   \n",
              "max     96.000000   1852.000000   88.000000     1188.000000   55.000000   \n",
              "\n",
              "       Kondisi_RR        RR_%  Kondisi_RB        RB_%  Total_Panjang  \n",
              "count  106.000000  106.000000  106.000000  106.000000     106.000000  \n",
              "mean   150.386792   12.037736  208.660377   15.537736     970.745283  \n",
              "std    143.758831   10.757876  211.434371   16.518489     825.912633  \n",
              "min      0.000000    0.000000    0.000000    0.000000       0.000000  \n",
              "25%     49.000000    4.000000   57.250000    4.000000      44.250000  \n",
              "50%    126.500000    9.000000  123.000000   11.500000     895.000000  \n",
              "75%    207.250000   18.750000  332.000000   21.750000    1513.000000  \n",
              "max    829.000000   47.000000  921.000000   85.000000    3048.000000  "
            ],
            "text/html": [
              "\n",
              "  <div id=\"df-299483c6-3662-4489-bd05-55664ee8c64c\" class=\"colab-df-container\">\n",
              "    <div>\n",
              "<style scoped>\n",
              "    .dataframe tbody tr th:only-of-type {\n",
              "        vertical-align: middle;\n",
              "    }\n",
              "\n",
              "    .dataframe tbody tr th {\n",
              "        vertical-align: top;\n",
              "    }\n",
              "\n",
              "    .dataframe thead th {\n",
              "        text-align: right;\n",
              "    }\n",
              "</style>\n",
              "<table border=\"1\" class=\"dataframe\">\n",
              "  <thead>\n",
              "    <tr style=\"text-align: right;\">\n",
              "      <th></th>\n",
              "      <th>Kd_Prov</th>\n",
              "      <th>Kondisi_Baik</th>\n",
              "      <th>Baik_%</th>\n",
              "      <th>Kondisi_Sedang</th>\n",
              "      <th>Sedang_%</th>\n",
              "      <th>Kondisi_RR</th>\n",
              "      <th>RR_%</th>\n",
              "      <th>Kondisi_RB</th>\n",
              "      <th>RB_%</th>\n",
              "      <th>Total_Panjang</th>\n",
              "    </tr>\n",
              "  </thead>\n",
              "  <tbody>\n",
              "    <tr>\n",
              "      <th>count</th>\n",
              "      <td>106.000000</td>\n",
              "      <td>106.000000</td>\n",
              "      <td>106.000000</td>\n",
              "      <td>106.000000</td>\n",
              "      <td>106.000000</td>\n",
              "      <td>106.000000</td>\n",
              "      <td>106.000000</td>\n",
              "      <td>106.000000</td>\n",
              "      <td>106.000000</td>\n",
              "      <td>106.000000</td>\n",
              "    </tr>\n",
              "    <tr>\n",
              "      <th>mean</th>\n",
              "      <td>49.311321</td>\n",
              "      <td>607.254717</td>\n",
              "      <td>48.584906</td>\n",
              "      <td>244.528302</td>\n",
              "      <td>17.292453</td>\n",
              "      <td>150.386792</td>\n",
              "      <td>12.037736</td>\n",
              "      <td>208.660377</td>\n",
              "      <td>15.537736</td>\n",
              "      <td>970.745283</td>\n",
              "    </tr>\n",
              "    <tr>\n",
              "      <th>std</th>\n",
              "      <td>27.227564</td>\n",
              "      <td>456.721110</td>\n",
              "      <td>21.060397</td>\n",
              "      <td>229.864606</td>\n",
              "      <td>13.083590</td>\n",
              "      <td>143.758831</td>\n",
              "      <td>10.757876</td>\n",
              "      <td>211.434371</td>\n",
              "      <td>16.518489</td>\n",
              "      <td>825.912633</td>\n",
              "    </tr>\n",
              "    <tr>\n",
              "      <th>min</th>\n",
              "      <td>11.000000</td>\n",
              "      <td>0.000000</td>\n",
              "      <td>0.000000</td>\n",
              "      <td>0.000000</td>\n",
              "      <td>0.000000</td>\n",
              "      <td>0.000000</td>\n",
              "      <td>0.000000</td>\n",
              "      <td>0.000000</td>\n",
              "      <td>0.000000</td>\n",
              "      <td>0.000000</td>\n",
              "    </tr>\n",
              "    <tr>\n",
              "      <th>25%</th>\n",
              "      <td>19.500000</td>\n",
              "      <td>288.250000</td>\n",
              "      <td>35.000000</td>\n",
              "      <td>75.000000</td>\n",
              "      <td>7.000000</td>\n",
              "      <td>49.000000</td>\n",
              "      <td>4.000000</td>\n",
              "      <td>57.250000</td>\n",
              "      <td>4.000000</td>\n",
              "      <td>44.250000</td>\n",
              "    </tr>\n",
              "    <tr>\n",
              "      <th>50%</th>\n",
              "      <td>52.000000</td>\n",
              "      <td>542.000000</td>\n",
              "      <td>48.500000</td>\n",
              "      <td>191.000000</td>\n",
              "      <td>13.000000</td>\n",
              "      <td>126.500000</td>\n",
              "      <td>9.000000</td>\n",
              "      <td>123.000000</td>\n",
              "      <td>11.500000</td>\n",
              "      <td>895.000000</td>\n",
              "    </tr>\n",
              "    <tr>\n",
              "      <th>75%</th>\n",
              "      <td>73.000000</td>\n",
              "      <td>836.500000</td>\n",
              "      <td>64.000000</td>\n",
              "      <td>366.500000</td>\n",
              "      <td>25.000000</td>\n",
              "      <td>207.250000</td>\n",
              "      <td>18.750000</td>\n",
              "      <td>332.000000</td>\n",
              "      <td>21.750000</td>\n",
              "      <td>1513.000000</td>\n",
              "    </tr>\n",
              "    <tr>\n",
              "      <th>max</th>\n",
              "      <td>96.000000</td>\n",
              "      <td>1852.000000</td>\n",
              "      <td>88.000000</td>\n",
              "      <td>1188.000000</td>\n",
              "      <td>55.000000</td>\n",
              "      <td>829.000000</td>\n",
              "      <td>47.000000</td>\n",
              "      <td>921.000000</td>\n",
              "      <td>85.000000</td>\n",
              "      <td>3048.000000</td>\n",
              "    </tr>\n",
              "  </tbody>\n",
              "</table>\n",
              "</div>\n",
              "    <div class=\"colab-df-buttons\">\n",
              "\n",
              "  <div class=\"colab-df-container\">\n",
              "    <button class=\"colab-df-convert\" onclick=\"convertToInteractive('df-299483c6-3662-4489-bd05-55664ee8c64c')\"\n",
              "            title=\"Convert this dataframe to an interactive table.\"\n",
              "            style=\"display:none;\">\n",
              "\n",
              "  <svg xmlns=\"http://www.w3.org/2000/svg\" height=\"24px\" viewBox=\"0 -960 960 960\">\n",
              "    <path d=\"M120-120v-720h720v720H120Zm60-500h600v-160H180v160Zm220 220h160v-160H400v160Zm0 220h160v-160H400v160ZM180-400h160v-160H180v160Zm440 0h160v-160H620v160ZM180-180h160v-160H180v160Zm440 0h160v-160H620v160Z\"/>\n",
              "  </svg>\n",
              "    </button>\n",
              "\n",
              "  <style>\n",
              "    .colab-df-container {\n",
              "      display:flex;\n",
              "      gap: 12px;\n",
              "    }\n",
              "\n",
              "    .colab-df-convert {\n",
              "      background-color: #E8F0FE;\n",
              "      border: none;\n",
              "      border-radius: 50%;\n",
              "      cursor: pointer;\n",
              "      display: none;\n",
              "      fill: #1967D2;\n",
              "      height: 32px;\n",
              "      padding: 0 0 0 0;\n",
              "      width: 32px;\n",
              "    }\n",
              "\n",
              "    .colab-df-convert:hover {\n",
              "      background-color: #E2EBFA;\n",
              "      box-shadow: 0px 1px 2px rgba(60, 64, 67, 0.3), 0px 1px 3px 1px rgba(60, 64, 67, 0.15);\n",
              "      fill: #174EA6;\n",
              "    }\n",
              "\n",
              "    .colab-df-buttons div {\n",
              "      margin-bottom: 4px;\n",
              "    }\n",
              "\n",
              "    [theme=dark] .colab-df-convert {\n",
              "      background-color: #3B4455;\n",
              "      fill: #D2E3FC;\n",
              "    }\n",
              "\n",
              "    [theme=dark] .colab-df-convert:hover {\n",
              "      background-color: #434B5C;\n",
              "      box-shadow: 0px 1px 3px 1px rgba(0, 0, 0, 0.15);\n",
              "      filter: drop-shadow(0px 1px 2px rgba(0, 0, 0, 0.3));\n",
              "      fill: #FFFFFF;\n",
              "    }\n",
              "  </style>\n",
              "\n",
              "    <script>\n",
              "      const buttonEl =\n",
              "        document.querySelector('#df-299483c6-3662-4489-bd05-55664ee8c64c button.colab-df-convert');\n",
              "      buttonEl.style.display =\n",
              "        google.colab.kernel.accessAllowed ? 'block' : 'none';\n",
              "\n",
              "      async function convertToInteractive(key) {\n",
              "        const element = document.querySelector('#df-299483c6-3662-4489-bd05-55664ee8c64c');\n",
              "        const dataTable =\n",
              "          await google.colab.kernel.invokeFunction('convertToInteractive',\n",
              "                                                    [key], {});\n",
              "        if (!dataTable) return;\n",
              "\n",
              "        const docLinkHtml = 'Like what you see? Visit the ' +\n",
              "          '<a target=\"_blank\" href=https://colab.research.google.com/notebooks/data_table.ipynb>data table notebook</a>'\n",
              "          + ' to learn more about interactive tables.';\n",
              "        element.innerHTML = '';\n",
              "        dataTable['output_type'] = 'display_data';\n",
              "        await google.colab.output.renderOutput(dataTable, element);\n",
              "        const docLink = document.createElement('div');\n",
              "        docLink.innerHTML = docLinkHtml;\n",
              "        element.appendChild(docLink);\n",
              "      }\n",
              "    </script>\n",
              "  </div>\n",
              "\n",
              "\n",
              "<div id=\"df-08181c4d-ffd0-4d00-bd3d-97c6a13fc7f3\">\n",
              "  <button class=\"colab-df-quickchart\" onclick=\"quickchart('df-08181c4d-ffd0-4d00-bd3d-97c6a13fc7f3')\"\n",
              "            title=\"Suggest charts\"\n",
              "            style=\"display:none;\">\n",
              "\n",
              "<svg xmlns=\"http://www.w3.org/2000/svg\" height=\"24px\"viewBox=\"0 0 24 24\"\n",
              "     width=\"24px\">\n",
              "    <g>\n",
              "        <path d=\"M19 3H5c-1.1 0-2 .9-2 2v14c0 1.1.9 2 2 2h14c1.1 0 2-.9 2-2V5c0-1.1-.9-2-2-2zM9 17H7v-7h2v7zm4 0h-2V7h2v10zm4 0h-2v-4h2v4z\"/>\n",
              "    </g>\n",
              "</svg>\n",
              "  </button>\n",
              "\n",
              "<style>\n",
              "  .colab-df-quickchart {\n",
              "      --bg-color: #E8F0FE;\n",
              "      --fill-color: #1967D2;\n",
              "      --hover-bg-color: #E2EBFA;\n",
              "      --hover-fill-color: #174EA6;\n",
              "      --disabled-fill-color: #AAA;\n",
              "      --disabled-bg-color: #DDD;\n",
              "  }\n",
              "\n",
              "  [theme=dark] .colab-df-quickchart {\n",
              "      --bg-color: #3B4455;\n",
              "      --fill-color: #D2E3FC;\n",
              "      --hover-bg-color: #434B5C;\n",
              "      --hover-fill-color: #FFFFFF;\n",
              "      --disabled-bg-color: #3B4455;\n",
              "      --disabled-fill-color: #666;\n",
              "  }\n",
              "\n",
              "  .colab-df-quickchart {\n",
              "    background-color: var(--bg-color);\n",
              "    border: none;\n",
              "    border-radius: 50%;\n",
              "    cursor: pointer;\n",
              "    display: none;\n",
              "    fill: var(--fill-color);\n",
              "    height: 32px;\n",
              "    padding: 0;\n",
              "    width: 32px;\n",
              "  }\n",
              "\n",
              "  .colab-df-quickchart:hover {\n",
              "    background-color: var(--hover-bg-color);\n",
              "    box-shadow: 0 1px 2px rgba(60, 64, 67, 0.3), 0 1px 3px 1px rgba(60, 64, 67, 0.15);\n",
              "    fill: var(--button-hover-fill-color);\n",
              "  }\n",
              "\n",
              "  .colab-df-quickchart-complete:disabled,\n",
              "  .colab-df-quickchart-complete:disabled:hover {\n",
              "    background-color: var(--disabled-bg-color);\n",
              "    fill: var(--disabled-fill-color);\n",
              "    box-shadow: none;\n",
              "  }\n",
              "\n",
              "  .colab-df-spinner {\n",
              "    border: 2px solid var(--fill-color);\n",
              "    border-color: transparent;\n",
              "    border-bottom-color: var(--fill-color);\n",
              "    animation:\n",
              "      spin 1s steps(1) infinite;\n",
              "  }\n",
              "\n",
              "  @keyframes spin {\n",
              "    0% {\n",
              "      border-color: transparent;\n",
              "      border-bottom-color: var(--fill-color);\n",
              "      border-left-color: var(--fill-color);\n",
              "    }\n",
              "    20% {\n",
              "      border-color: transparent;\n",
              "      border-left-color: var(--fill-color);\n",
              "      border-top-color: var(--fill-color);\n",
              "    }\n",
              "    30% {\n",
              "      border-color: transparent;\n",
              "      border-left-color: var(--fill-color);\n",
              "      border-top-color: var(--fill-color);\n",
              "      border-right-color: var(--fill-color);\n",
              "    }\n",
              "    40% {\n",
              "      border-color: transparent;\n",
              "      border-right-color: var(--fill-color);\n",
              "      border-top-color: var(--fill-color);\n",
              "    }\n",
              "    60% {\n",
              "      border-color: transparent;\n",
              "      border-right-color: var(--fill-color);\n",
              "    }\n",
              "    80% {\n",
              "      border-color: transparent;\n",
              "      border-right-color: var(--fill-color);\n",
              "      border-bottom-color: var(--fill-color);\n",
              "    }\n",
              "    90% {\n",
              "      border-color: transparent;\n",
              "      border-bottom-color: var(--fill-color);\n",
              "    }\n",
              "  }\n",
              "</style>\n",
              "\n",
              "  <script>\n",
              "    async function quickchart(key) {\n",
              "      const quickchartButtonEl =\n",
              "        document.querySelector('#' + key + ' button');\n",
              "      quickchartButtonEl.disabled = true;  // To prevent multiple clicks.\n",
              "      quickchartButtonEl.classList.add('colab-df-spinner');\n",
              "      try {\n",
              "        const charts = await google.colab.kernel.invokeFunction(\n",
              "            'suggestCharts', [key], {});\n",
              "      } catch (error) {\n",
              "        console.error('Error during call to suggestCharts:', error);\n",
              "      }\n",
              "      quickchartButtonEl.classList.remove('colab-df-spinner');\n",
              "      quickchartButtonEl.classList.add('colab-df-quickchart-complete');\n",
              "    }\n",
              "    (() => {\n",
              "      let quickchartButtonEl =\n",
              "        document.querySelector('#df-08181c4d-ffd0-4d00-bd3d-97c6a13fc7f3 button');\n",
              "      quickchartButtonEl.style.display =\n",
              "        google.colab.kernel.accessAllowed ? 'block' : 'none';\n",
              "    })();\n",
              "  </script>\n",
              "</div>\n",
              "\n",
              "    </div>\n",
              "  </div>\n"
            ],
            "application/vnd.google.colaboratory.intrinsic+json": {
              "type": "dataframe",
              "summary": "{\n  \"name\": \"data\",\n  \"rows\": 8,\n  \"fields\": [\n    {\n      \"column\": \"Kd_Prov\",\n      \"properties\": {\n        \"dtype\": \"number\",\n        \"std\": 35.07232812537063,\n        \"min\": 11.0,\n        \"max\": 106.0,\n        \"num_unique_values\": 8,\n        \"samples\": [\n          49.31132075471698,\n          52.0,\n          106.0\n        ],\n        \"semantic_type\": \"\",\n        \"description\": \"\"\n      }\n    },\n    {\n      \"column\": \"Kondisi_Baik\",\n      \"properties\": {\n        \"dtype\": \"number\",\n        \"std\": 579.0457718105872,\n        \"min\": 0.0,\n        \"max\": 1852.0,\n        \"num_unique_values\": 8,\n        \"samples\": [\n          607.2547169811321,\n          542.0,\n          106.0\n        ],\n        \"semantic_type\": \"\",\n        \"description\": \"\"\n      }\n    },\n    {\n      \"column\": \"Baik_%\",\n      \"properties\": {\n        \"dtype\": \"number\",\n        \"std\": 34.49063198713253,\n        \"min\": 0.0,\n        \"max\": 106.0,\n        \"num_unique_values\": 8,\n        \"samples\": [\n          48.58490566037736,\n          48.5,\n          106.0\n        ],\n        \"semantic_type\": \"\",\n        \"description\": \"\"\n      }\n    },\n    {\n      \"column\": \"Kondisi_Sedang\",\n      \"properties\": {\n        \"dtype\": \"number\",\n        \"std\": 376.2795755937181,\n        \"min\": 0.0,\n        \"max\": 1188.0,\n        \"num_unique_values\": 8,\n        \"samples\": [\n          244.52830188679246,\n          191.0,\n          106.0\n        ],\n        \"semantic_type\": \"\",\n        \"description\": \"\"\n      }\n    },\n    {\n      \"column\": \"Sedang_%\",\n      \"properties\": {\n        \"dtype\": \"number\",\n        \"std\": 35.03060917457844,\n        \"min\": 0.0,\n        \"max\": 106.0,\n        \"num_unique_values\": 8,\n        \"samples\": [\n          17.29245283018868,\n          13.0,\n          106.0\n        ],\n        \"semantic_type\": \"\",\n        \"description\": \"\"\n      }\n    },\n    {\n      \"column\": \"Kondisi_RR\",\n      \"properties\": {\n        \"dtype\": \"number\",\n        \"std\": 261.40818212650083,\n        \"min\": 0.0,\n        \"max\": 829.0,\n        \"num_unique_values\": 8,\n        \"samples\": [\n          150.38679245283018,\n          126.5,\n          106.0\n        ],\n        \"semantic_type\": \"\",\n        \"description\": \"\"\n      }\n    },\n    {\n      \"column\": \"RR_%\",\n      \"properties\": {\n        \"dtype\": \"number\",\n        \"std\": 35.395326277504374,\n        \"min\": 0.0,\n        \"max\": 106.0,\n        \"num_unique_values\": 8,\n        \"samples\": [\n          12.037735849056604,\n          9.0,\n          106.0\n        ],\n        \"semantic_type\": \"\",\n        \"description\": \"\"\n      }\n    },\n    {\n      \"column\": \"Kondisi_RB\",\n      \"properties\": {\n        \"dtype\": \"number\",\n        \"std\": 291.90806490097907,\n        \"min\": 0.0,\n        \"max\": 921.0,\n        \"num_unique_values\": 8,\n        \"samples\": [\n          208.66037735849056,\n          123.0,\n          106.0\n        ],\n        \"semantic_type\": \"\",\n        \"description\": \"\"\n      }\n    },\n    {\n      \"column\": \"RB_%\",\n      \"properties\": {\n        \"dtype\": \"number\",\n        \"std\": 39.86885266282128,\n        \"min\": 0.0,\n        \"max\": 106.0,\n        \"num_unique_values\": 8,\n        \"samples\": [\n          15.537735849056604,\n          11.5,\n          106.0\n        ],\n        \"semantic_type\": \"\",\n        \"description\": \"\"\n      }\n    },\n    {\n      \"column\": \"Total_Panjang\",\n      \"properties\": {\n        \"dtype\": \"number\",\n        \"std\": 1011.9139886316834,\n        \"min\": 0.0,\n        \"max\": 3048.0,\n        \"num_unique_values\": 8,\n        \"samples\": [\n          970.7452830188679,\n          895.0,\n          106.0\n        ],\n        \"semantic_type\": \"\",\n        \"description\": \"\"\n      }\n    }\n  ]\n}"
            }
          },
          "metadata": {},
          "execution_count": 69
        }
      ]
    },
    {
      "cell_type": "code",
      "source": [
        "# Cek duplikat masing-masing baris\n",
        "duplicate_rows = data[data.duplicated()]\n",
        "\n",
        "if not duplicate_rows.empty:\n",
        "  print(\"Terdapat data duplikat:\")\n",
        "  print(duplicate_rows)\n",
        "else:\n",
        "  print(\"Tidak terdapat data duplikat.\")"
      ],
      "metadata": {
        "colab": {
          "base_uri": "https://localhost:8080/"
        },
        "id": "-6qTixvbR7wC",
        "outputId": "7a35d067-e807-4f51-aae5-cb24d7e4b8aa"
      },
      "execution_count": null,
      "outputs": [
        {
          "output_type": "stream",
          "name": "stdout",
          "text": [
            "Tidak terdapat data duplikat.\n"
          ]
        }
      ]
    },
    {
      "cell_type": "markdown",
      "source": [
        "**hasil validasi data** : menunjukkan tidak ada data hilang, tipe data juga sudah sesuai, *dan* tidak ada duplikat dalam data karena data relatif sedikit. tidak ada data duplikat pada data ini karena jumlah data relatif kecil, sehingga minimalisir terjadinya salah dalam penginputan data."
      ],
      "metadata": {
        "id": "EwI6uaqfRl79"
      }
    },
    {
      "cell_type": "markdown",
      "source": [
        "## **J.62DMI00.005.1 - Menelaah Data**\n",
        "\n",
        "dilakukan eksplorasi data lagi setelah dilakukan perbaikan format"
      ],
      "metadata": {
        "id": "msQ6EVQATO9E"
      }
    },
    {
      "cell_type": "markdown",
      "source": [
        "###**Cek Outlier dalam Data Menggunakan Boxplot**"
      ],
      "metadata": {
        "id": "FK0Qd0rVb7-T"
      }
    },
    {
      "cell_type": "code",
      "source": [
        "#cek outlier dalam data pada setiap tahun\n",
        "\n",
        "plt.figure(figsize=(4, 3))\n",
        "sns.boxplot(x='Tahun', y='Kondisi_RR', data=data)\n",
        "plt.title('Kondisi Jalan Rusak Ringan')\n",
        "plt.xlabel('Tahun')\n",
        "plt.ylabel('Kondisi_RR')\n",
        "\n",
        "plt.figure(figsize=(4, 3))\n",
        "sns.boxplot(x='Tahun', y='Kondisi_RB', data=data)\n",
        "plt.title('Kondisi Jalan Rusak Berat')\n",
        "plt.xlabel('Tahun')\n",
        "plt.ylabel('Kondisi_RB')\n",
        "\n",
        "plt.figure(figsize=(4, 3))\n",
        "sns.boxplot(x='Tahun', y='Total_Panjang', data=data)\n",
        "plt.title('Boxplot Total Panjang')\n",
        "plt.xlabel('Tahun')\n",
        "plt.ylabel('Total_Panjang')\n",
        "\n",
        "plt.show()"
      ],
      "metadata": {
        "colab": {
          "base_uri": "https://localhost:8080/",
          "height": 965
        },
        "id": "pEswjCjmW8Na",
        "outputId": "d712ef61-9481-4eac-c286-42a6facf93a9"
      },
      "execution_count": null,
      "outputs": [
        {
          "output_type": "display_data",
          "data": {
            "text/plain": [
              "<Figure size 400x300 with 1 Axes>"
            ],
            "image/png": "[encoded data removed]"
          },
          "metadata": {}
        },
        {
          "output_type": "display_data",
          "data": {
            "text/plain": [
              "<Figure size 400x300 with 1 Axes>"
            ],
            "image/png": "[encoded data removed]"
          },
          "metadata": {}
        },
        {
          "output_type": "display_data",
          "data": {
            "text/plain": [
              "<Figure size 400x300 with 1 Axes>"
            ],
            "image/png": "[encoded data removed]"
          },
          "metadata": {}
        }
      ]
    },
    {
      "cell_type": "markdown",
      "source": [
        "terdapat beberapa otulier dalam data, untuk langkah selanjutnya terkait penanganan outlier tidak perlu dilakukan karena model yang akan kita bangun adalah klasifikasi model bukan prediksi model. sehingga kemungkinan pengaruh outlier dalam membangun model adalah terbentuknya klaster sendiri untuk outlier sehingga akan muncul informasi baru terkait kondisi permukaan jalan.\n",
        "namun jika peneliti ingin mengahapus maka bisa dengan menghitung IQR dan whisker tsb selanjutnya nilai yang diluar Whisker dibuang ataukah diganti dengan rata-rata atau median."
      ],
      "metadata": {
        "id": "kmZzYzfDbGWw"
      }
    },
    {
      "cell_type": "markdown",
      "source": [
        "###**Histogram Kondisi Jalan Rusak Ringan dan Rusak Berat**"
      ],
      "metadata": {
        "id": "VcFRxan1e6Jf"
      }
    },
    {
      "cell_type": "code",
      "source": [
        "# Histogram untuk melihat kondisi jalan lebih detail\n",
        "\n",
        "plt.figure(figsize=(10, 6))\n",
        "\n",
        "# Histogram Kondisi_RR\n",
        "plt.subplot(1, 2, 1)\n",
        "plt.hist(data['Kondisi_RR'], bins=20, color='skyblue', edgecolor='black')\n",
        "plt.title('Histogram Kondisi Jalan Rusak Ringan (Kondisi_RR)')\n",
        "plt.xlabel('Kondisi_RR (km)')\n",
        "plt.ylabel('Frekuensi')\n",
        "\n",
        "# Histogram Kondisi_RB\n",
        "plt.subplot(1, 2, 2)\n",
        "plt.hist(data['Kondisi_RB'], bins=20, color='salmon', edgecolor='black')\n",
        "plt.title('Histogram Kondisi Jalan Rusak Berat (Kondisi_RB)')\n",
        "plt.xlabel('Kondisi_RB (km)')\n",
        "plt.ylabel('Frekuensi')\n",
        "\n",
        "\n",
        "plt.tight_layout()\n",
        "plt.show()"
      ],
      "metadata": {
        "colab": {
          "base_uri": "https://localhost:8080/",
          "height": 607
        },
        "id": "mmyoO9uNb2zl",
        "outputId": "e467d48c-0a3c-4c5a-b9e1-2cc64cdb1b8d"
      },
      "execution_count": null,
      "outputs": [
        {
          "output_type": "display_data",
          "data": {
            "text/plain": [
              "<Figure size 1000x600 with 2 Axes>"
            ],
            "image/png": "[encoded data removed]"
          },
          "metadata": {}
        }
      ]
    },
    {
      "cell_type": "markdown",
      "source": [
        "## **J.62DMI00.008.1 - Membersihkan Data**\n",
        "\n",
        "dari hasil validasi data tidak ada data hilang sehingga tidak perlu dilakukan pengisian data hilang.\n",
        "hasil dari pengecekan outlier dengan Boxplot tidak perlu menangani data outlier karena pendapat dari peneliti. namun jika dilakukan penanganan boxplot bisa mengganti dengan rata-rata."
      ],
      "metadata": {
        "id": "XdtlJoM9Sg2e"
      }
    },
    {
      "cell_type": "markdown",
      "source": [
        "##**J.62DMI00.009.1 - Mengkonstruksi Data**\n",
        "\n",
        "melakukan normalisasi data menggunakan nilai Z. standarisasi untuk mengubah data sehingga memiliki rata-rata 0 dan standar deviasi 1."
      ],
      "metadata": {
        "id": "eYvPQFgPhsUA"
      }
    },
    {
      "cell_type": "code",
      "source": [
        "from sklearn.preprocessing import StandardScaler\n",
        "\n",
        "# standarisasi data\n",
        "numerical_columns = ['Kondisi_RR', 'Kondisi_RB', 'Total_Panjang']\n",
        "scaler = StandardScaler()\n",
        "data_scaled = scaler.fit_transform(data[numerical_columns]) #standarisasi numerical columns\n",
        "print(data_scaled)"
      ],
      "metadata": {
        "colab": {
          "base_uri": "https://localhost:8080/"
        },
        "id": "k4xyh2-5hpFo",
        "outputId": "8d3e7864-ab6f-4c51-9cff-af3fa2d47e64"
      },
      "execution_count": null,
      "outputs": [
        {
          "output_type": "stream",
          "name": "stdout",
          "text": [
            "[[-0.62473682  0.46256456  0.98570224]\n",
            " [ 0.40266678  0.58611834  2.52705054]\n",
            " [ 0.41664506 -0.1029316   0.67426959]\n",
            " [ 2.02414731  2.0117389   2.22413363]\n",
            " [-0.11452959 -0.44508053  0.07451843]\n",
            " [-0.4989323  -0.65417155  0.65967118]\n",
            " [-0.31022552  0.28673802  0.71928134]\n",
            " [ 0.61933013 -0.20272504  0.87864726]\n",
            " [-0.80645447 -0.99156841 -0.14689072]\n",
            " [ 0.02525321 -0.83475015 -0.09093016]\n",
            " [-1.05107438 -0.99156841 -1.18094443]\n",
            " [-0.17044271 -0.2835102   1.6900753 ]\n",
            " [ 0.62631927 -0.99156841  1.74360278]\n",
            " [ 0.03224235 -0.70169223 -0.25637876]\n",
            " [-0.42205176 -0.99156841  0.54775007]\n",
            " [-1.05107438 -0.99156841 -1.18094443]\n",
            " [ 0.03923149 -0.99156841 -0.27705983]\n",
            " [-0.47796488 -0.17896469  0.6243917 ]\n",
            " [-0.24033411  2.1780613   2.04287009]\n",
            " [ 3.1354206  -0.92979152  0.68521839]\n",
            " [-0.02367077 -0.91553532  0.36648654]\n",
            " [-0.38011692 -0.83475015 -0.25394569]\n",
            " [ 0.83599348 -0.68268396 -0.10552857]\n",
            " [ 0.81502606 -0.88227084 -0.14567418]\n",
            " [-0.51989972 -0.63516327 -0.05443415]\n",
            " [ 0.2489057   1.10884588  0.81782057]\n",
            " [-0.03065991 -0.65892362  0.04653816]\n",
            " [-0.34517122 -0.46408881 -0.61282316]\n",
            " [-0.70161737 -0.68743603 -0.95588568]\n",
            " [ 1.1015808   0.78570522  1.27037114]\n",
            " [ 0.51449303 -0.03640264  0.13291205]\n",
            " [ 0.73814551  0.58611834  0.37135268]\n",
            " [ 4.74292285 -0.22648538  1.69129183]\n",
            " [ 0.45159077  1.96897028  1.62803207]\n",
            " [-0.61774768  0.69541592 -1.18094443]\n",
            " [-0.16345357  1.77413547 -1.18094443]\n",
            " [ 0.57040615 -0.26450193 -1.18094443]\n",
            " [ 3.24724684  1.00905244 -1.18094443]\n",
            " [-0.04463819 -0.45933674 -1.18094443]\n",
            " [-0.84140017 -0.70169223 -1.18094443]\n",
            " [ 1.85640795  0.13467183 -1.18094443]\n",
            " [ 0.09514462  0.20595286 -1.18094443]\n",
            " [-0.73656307 -0.99156841 -0.14689072]\n",
            " [-0.70161737 -0.40706398 -0.09093016]\n",
            " [-1.05107438 -0.99156841 -1.18094443]\n",
            " [-0.05861647 -0.41181605 -1.18094443]\n",
            " [ 0.47954733 -0.99156841 -1.18094443]\n",
            " [-0.04463819 -0.616155   -0.25637876]\n",
            " [-0.95322641 -0.92028739 -1.18094443]\n",
            " [-1.05107438 -0.99156841 -1.18094443]\n",
            " [ 0.02525321 -0.98681635 -0.27705983]\n",
            " [-0.75054135  0.07764701 -1.18094443]\n",
            " [-0.62473682  2.38240025 -1.18094443]\n",
            " [ 2.39457174 -0.92979152 -1.18094443]\n",
            " [ 0.0741772  -0.99156841 -1.18094443]\n",
            " [-0.78548705 -0.40706398 -0.25394569]\n",
            " [-0.3242038  -0.4355764  -0.0921467 ]\n",
            " [-1.01612867  2.42516886 -0.14567418]\n",
            " [-0.92526985 -0.46884088 -0.05443415]\n",
            " [ 0.67524325  0.77620108 -1.18094443]\n",
            " [ 0.1091229   1.08983761 -1.18094443]\n",
            " [ 0.80104778 -0.56863431 -1.18094443]\n",
            " [-0.69462823 -0.29301434 -0.61282316]\n",
            " [-0.70860651 -0.70169223 -0.95588568]\n",
            " [-0.80645447  0.82372177 -1.18094443]\n",
            " [ 0.80104778  1.05182106 -1.18094443]\n",
            " [ 0.03923149  1.99273063 -1.18094443]\n",
            " [-1.05107438  0.17268838 -1.18094443]\n",
            " [-0.93225899  0.23921734  0.98570224]\n",
            " [-0.09356217  1.13735829  2.47473959]\n",
            " [-0.26130153  1.18963104  0.87499766]\n",
            " [-0.63172596  3.38508671  2.22413363]\n",
            " [ 0.17202516 -0.66842775  0.07451843]\n",
            " [-0.91129157 -0.53536983  0.65967118]\n",
            " [ 1.31824415  0.37227526  0.71928134]\n",
            " [-0.17044271  0.26772975  0.87864726]\n",
            " [-0.95322641 -0.72545258 -0.14689072]\n",
            " [-0.6387151  -0.45933674 -0.09093016]\n",
            " [-1.05107438 -0.99156841 -1.18094443]\n",
            " [ 0.22094914 -0.60665086  1.6900753 ]\n",
            " [ 0.24191656 -0.53061777  1.787398  ]\n",
            " [ 0.1440686  -0.73020464 -0.25637876]\n",
            " [-0.40108434 -0.70169223  0.54775007]\n",
            " [-0.89731329 -0.75396499 -0.13959151]\n",
            " [-0.01668163 -0.99156841 -0.27705983]\n",
            " [-0.96720469  0.40078767  0.6243917 ]\n",
            " [ 1.6746903   0.70492005  2.04287009]\n",
            " [ 1.70264686 -0.84900636  0.68521839]\n",
            " [ 0.13707946 -0.62565914  0.36648654]\n",
            " [-0.40807348  0.1394239  -0.05321761]\n",
            " [-0.3242038  -0.53536983 -0.0921467 ]\n",
            " [-1.00913953  2.45368128 -0.14567418]\n",
            " [-0.95322641 -0.3595433   0.03437282]\n",
            " [ 0.78008036  0.5766142   0.81782057]\n",
            " [ 0.38169936  0.71442419  1.26915461]\n",
            " [ 0.15804688 -0.48309708  0.12804592]\n",
            " [-0.84838931 -0.25024572 -0.61282316]\n",
            " [ 0.24191656 -0.40231192 -0.53861459]\n",
            " [-0.70860651  1.01855658  0.03072322]\n",
            " [ 0.56341701  0.89025073  0.37135268]\n",
            " [ 2.03113645 -0.95830393  0.16089233]\n",
            " [-0.89032415  2.5249623   0.4333959 ]\n",
            " [-1.00913953  0.83797797 -0.51671699]\n",
            " [-0.45699746 -0.21698124 -0.79043709]\n",
            " [-0.47097574 -0.8727667  -0.96561795]\n",
            " [-0.98118297  1.64582962  0.01369174]]\n"
          ]
        }
      ]
    },
    {
      "cell_type": "markdown",
      "source": [
        "##**J.62DMI00.013.1 - Membangun Model**"
      ],
      "metadata": {
        "id": "2BocxlQMkgOD"
      }
    },
    {
      "cell_type": "markdown",
      "source": [
        "### **1. Menentukan Jumlah Kelompok/klaster dengan Elbow Method**"
      ],
      "metadata": {
        "id": "QTY3ZysXkqh-"
      }
    },
    {
      "cell_type": "markdown",
      "source": [
        "Grafik elbow menggambarkan hubungan antara jumlah klaster (K) dan Within-Cluster Sum of Squares (WCSS) atau Distorsi. WCSS adalah total jarak kuadrat antara setiap titik data ke centroid klasternya.\n",
        "tujuan penggunaan grafik elbow untuk menentukan jumlah klaster optimal yang akan dilakukan pengelompokan nantinya.\n",
        "Sumbu X: Jumlah klaster (K).\n",
        "Sumbu Y: Nilai WCSS (atau Distorsi)."
      ],
      "metadata": {
        "id": "TygiDWk_i1W8"
      }
    },
    {
      "cell_type": "code",
      "source": [
        "from sklearn.cluster import KMeans\n",
        "import matplotlib.pyplot as plt\n",
        "# Metode Elbow untuk menentukan jumlah klaster optimal\n",
        "inertia = []\n",
        "cluster_range = range(1, 11)\n",
        "\n",
        "for k in cluster_range:\n",
        "    kmeans = KMeans(n_clusters=k, random_state=42)\n",
        "    kmeans.fit(data_scaled)\n",
        "    inertia.append(kmeans.inertia_)\n",
        "\n",
        "# plot metode elbow\n",
        "plt.figure(figsize=(8, 5))\n",
        "plt.plot(cluster_range, inertia, marker='o')\n",
        "plt.title('Metode Elbow')\n",
        "plt.xlabel('Jumlah Cluster Optimal')\n",
        "plt.ylabel('Inertia')\n",
        "plt.grid(True)\n",
        "plt.show()"
      ],
      "metadata": {
        "colab": {
          "base_uri": "https://localhost:8080/",
          "height": 487
        },
        "id": "zheHMrNbfzRy",
        "outputId": "f5f49b98-555a-47af-a4ee-a46d90e55533"
      },
      "execution_count": null,
      "outputs": [
        {
          "output_type": "display_data",
          "data": {
            "text/plain": [
              "<Figure size 800x500 with 1 Axes>"
            ],
            "image/png": "[encoded data removed]"
          },
          "metadata": {}
        }
      ]
    },
    {
      "cell_type": "markdown",
      "source": [
        "jumlah klaster optimal dapat diidentifikasi pada titik siku grafik, yaitu di mana penurunan nilai Inertia (atau WCSS) mulai melandai.\n",
        "\n",
        "Pada grafik tersebut:\n",
        "\n",
        "Penurunan tajam terjadi hingga klaster ke-3.\n",
        "Setelah itu (klaster ke-4 dan seterusnya), penurunan menjadi lebih landai.\n",
        "Jumlah klaster optimal adalah 3 dalam grafik tersebut."
      ],
      "metadata": {
        "id": "JykUZuI1kG2F"
      }
    },
    {
      "cell_type": "markdown",
      "source": [
        "###**2. Clustering Menggunakan K-Means**"
      ],
      "metadata": {
        "id": "kae6ofcFlMwi"
      }
    },
    {
      "source": [
        "# K-Means variabel yang akan dilakukan clustering\n",
        "optimal_clusters = 3  # menentukan klaster optimal\n",
        "kmeans_model = KMeans(n_clusters=optimal_clusters, random_state=42)\n",
        "data['Cluster'] = kmeans_model.fit_predict(data_scaled) + 1\n",
        "\n",
        "cluster_stats = data.groupby('Cluster')[numerical_columns].mean()\n",
        "cluster_stats['Count'] = data['Cluster'].value_counts()\n",
        "\n",
        "print(\"Cluster Statistics\")  # label cluster statistics\n",
        "print(cluster_stats)\n"
      ],
      "cell_type": "code",
      "metadata": {
        "colab": {
          "base_uri": "https://localhost:8080/"
        },
        "id": "LJ_JRPAbmPIY",
        "outputId": "d5ec101d-c241-45d6-e639-e164716b673d"
      },
      "execution_count": null,
      "outputs": [
        {
          "output_type": "stream",
          "name": "stdout",
          "text": [
            "Cluster Statistics\n",
            "         Kondisi_RR  Kondisi_RB  Total_Panjang  Count\n",
            "Cluster                                              \n",
            "1        111.891892  206.351351     143.810811     37\n",
            "2        263.952381  463.714286    1871.571429     21\n",
            "3        130.375000   98.854167    1214.062500     48\n"
          ]
        }
      ]
    },
    {
      "cell_type": "markdown",
      "source": [
        "analisa untuk mengetahui informasi yang dikandung dalam cluster\n",
        "\n",
        "**Cluster 1**\n",
        "*   Kondisi Rusak Ringan (111 km): rendah\n",
        "*   Kondisi Rusak Berat (206 km): Menengah\n",
        "*   Panjang Jalan (143 km): pendek\n",
        "\n",
        "**Cluster 2**\n",
        "*   Kondisi Rusak Ringan (263 km): tinggi\n",
        "*   Kondisi Rusak Berat (463 km): tinggi\n",
        "*   Panjang Jalan (1871 km): terpanjang\n",
        "\n",
        "**Cluster 3**\n",
        "*   Kondisi Rusak Ringan (130 km): menengah\n",
        "*   Kondisi Rusak Berat (98 km) : rendah\n",
        "*   Panjang Jalan (1214 km): sedang\n",
        "\n",
        "dari ketiga cluster yang terbentuk , cluster 2 yang harus menjadi prioritas utama perbaikan, cluster 1 menjadi prioritas kedua, dan terakhir cluster 3 menjadi prioritas ketiga dan menjadi evaluasi agar kedepannya jumlah klaster 3 dapat diturunkan agar kondisi jalan tidak menjadi kondisi sesuai klaster 1 dan 2"
      ],
      "metadata": {
        "id": "8U1xg_8CmrCP"
      }
    },
    {
      "cell_type": "code",
      "source": [
        "# Menampilkan data keseluruhan\n",
        "data"
      ],
      "metadata": {
        "colab": {
          "base_uri": "https://localhost:8080/",
          "height": 527
        },
        "id": "YqAofgBrms9b",
        "outputId": "01d0796c-cf44-4554-f9b8-375ce5fd09b7"
      },
      "execution_count": null,
      "outputs": [
        {
          "output_type": "execute_result",
          "data": {
            "text/plain": [
              "     Kd_Prov Tahun          Provinsi  Kondisi_Baik  Baik_%  Kondisi_Sedang  \\\n",
              "0         11  2021              Aceh          1317      73              95   \n",
              "1         12  2021    Sumatera Utara          1319      43            1188   \n",
              "2         13  2021    Sumatera Barat           786      51             341   \n",
              "3         14  2021              Riau          1402      50             324   \n",
              "4         15  2021             Jambi           322      31             460   \n",
              "..       ...   ...               ...           ...     ...             ...   \n",
              "101       92  2023       Papua Barat           470      35              92   \n",
              "102       93  2023     Papua Selatan           106      19              48   \n",
              "103       94  2023      Papua Tengah            54      16              17   \n",
              "104       95  2023  Papua Pegunungan            62      35               5   \n",
              "105       96  2023  Papua Barat Daya           324      33              91   \n",
              "\n",
              "     Sedang_%  Kondisi_RR  RR_%  Kondisi_RB  RB_%  Total_Panjang  Cluster  \n",
              "0           5          61     3         306    17           1781        3  \n",
              "1          38         208     6         332    10           3048        2  \n",
              "2          22         210    13         187    12           1525        3  \n",
              "3          11         440    15         632    22           2799        2  \n",
              "4          44         134    13         115    11           1032        3  \n",
              "..        ...         ...   ...         ...   ...            ...      ...  \n",
              "101         6          23     1         740    55           1327        2  \n",
              "102         8           6     1         385    70            546        1  \n",
              "103         5          85    26         163    51            321        1  \n",
              "104         3          83    47          25    14            177        1  \n",
              "105         9          10     1         555    56            982        1  \n",
              "\n",
              "[106 rows x 13 columns]"
            ],
            "text/html": [
              "\n",
              "  <div id=\"df-fed6d38e-dfe3-424b-834b-c651d9977a3c\" class=\"colab-df-container\">\n",
              "    <div>\n",
              "<style scoped>\n",
              "    .dataframe tbody tr th:only-of-type {\n",
              "        vertical-align: middle;\n",
              "    }\n",
              "\n",
              "    .dataframe tbody tr th {\n",
              "        vertical-align: top;\n",
              "    }\n",
              "\n",
              "    .dataframe thead th {\n",
              "        text-align: right;\n",
              "    }\n",
              "</style>\n",
              "<table border=\"1\" class=\"dataframe\">\n",
              "  <thead>\n",
              "    <tr style=\"text-align: right;\">\n",
              "      <th></th>\n",
              "      <th>Kd_Prov</th>\n",
              "      <th>Tahun</th>\n",
              "      <th>Provinsi</th>\n",
              "      <th>Kondisi_Baik</th>\n",
              "      <th>Baik_%</th>\n",
              "      <th>Kondisi_Sedang</th>\n",
              "      <th>Sedang_%</th>\n",
              "      <th>Kondisi_RR</th>\n",
              "      <th>RR_%</th>\n",
              "      <th>Kondisi_RB</th>\n",
              "      <th>RB_%</th>\n",
              "      <th>Total_Panjang</th>\n",
              "      <th>Cluster</th>\n",
              "    </tr>\n",
              "  </thead>\n",
              "  <tbody>\n",
              "    <tr>\n",
              "      <th>0</th>\n",
              "      <td>11</td>\n",
              "      <td>2021</td>\n",
              "      <td>Aceh</td>\n",
              "      <td>1317</td>\n",
              "      <td>73</td>\n",
              "      <td>95</td>\n",
              "      <td>5</td>\n",
              "      <td>61</td>\n",
              "      <td>3</td>\n",
              "      <td>306</td>\n",
              "      <td>17</td>\n",
              "      <td>1781</td>\n",
              "      <td>3</td>\n",
              "    </tr>\n",
              "    <tr>\n",
              "      <th>1</th>\n",
              "      <td>12</td>\n",
              "      <td>2021</td>\n",
              "      <td>Sumatera Utara</td>\n",
              "      <td>1319</td>\n",
              "      <td>43</td>\n",
              "      <td>1188</td>\n",
              "      <td>38</td>\n",
              "      <td>208</td>\n",
              "      <td>6</td>\n",
              "      <td>332</td>\n",
              "      <td>10</td>\n",
              "      <td>3048</td>\n",
              "      <td>2</td>\n",
              "    </tr>\n",
              "    <tr>\n",
              "      <th>2</th>\n",
              "      <td>13</td>\n",
              "      <td>2021</td>\n",
              "      <td>Sumatera Barat</td>\n",
              "      <td>786</td>\n",
              "      <td>51</td>\n",
              "      <td>341</td>\n",
              "      <td>22</td>\n",
              "      <td>210</td>\n",
              "      <td>13</td>\n",
              "      <td>187</td>\n",
              "      <td>12</td>\n",
              "      <td>1525</td>\n",
              "      <td>3</td>\n",
              "    </tr>\n",
              "    <tr>\n",
              "      <th>3</th>\n",
              "      <td>14</td>\n",
              "      <td>2021</td>\n",
              "      <td>Riau</td>\n",
              "      <td>1402</td>\n",
              "      <td>50</td>\n",
              "      <td>324</td>\n",
              "      <td>11</td>\n",
              "      <td>440</td>\n",
              "      <td>15</td>\n",
              "      <td>632</td>\n",
              "      <td>22</td>\n",
              "      <td>2799</td>\n",
              "      <td>2</td>\n",
              "    </tr>\n",
              "    <tr>\n",
              "      <th>4</th>\n",
              "      <td>15</td>\n",
              "      <td>2021</td>\n",
              "      <td>Jambi</td>\n",
              "      <td>322</td>\n",
              "      <td>31</td>\n",
              "      <td>460</td>\n",
              "      <td>44</td>\n",
              "      <td>134</td>\n",
              "      <td>13</td>\n",
              "      <td>115</td>\n",
              "      <td>11</td>\n",
              "      <td>1032</td>\n",
              "      <td>3</td>\n",
              "    </tr>\n",
              "    <tr>\n",
              "      <th>...</th>\n",
              "      <td>...</td>\n",
              "      <td>...</td>\n",
              "      <td>...</td>\n",
              "      <td>...</td>\n",
              "      <td>...</td>\n",
              "      <td>...</td>\n",
              "      <td>...</td>\n",
              "      <td>...</td>\n",
              "      <td>...</td>\n",
              "      <td>...</td>\n",
              "      <td>...</td>\n",
              "      <td>...</td>\n",
              "      <td>...</td>\n",
              "    </tr>\n",
              "    <tr>\n",
              "      <th>101</th>\n",
              "      <td>92</td>\n",
              "      <td>2023</td>\n",
              "      <td>Papua Barat</td>\n",
              "      <td>470</td>\n",
              "      <td>35</td>\n",
              "      <td>92</td>\n",
              "      <td>6</td>\n",
              "      <td>23</td>\n",
              "      <td>1</td>\n",
              "      <td>740</td>\n",
              "      <td>55</td>\n",
              "      <td>1327</td>\n",
              "      <td>2</td>\n",
              "    </tr>\n",
              "    <tr>\n",
              "      <th>102</th>\n",
              "      <td>93</td>\n",
              "      <td>2023</td>\n",
              "      <td>Papua Selatan</td>\n",
              "      <td>106</td>\n",
              "      <td>19</td>\n",
              "      <td>48</td>\n",
              "      <td>8</td>\n",
              "      <td>6</td>\n",
              "      <td>1</td>\n",
              "      <td>385</td>\n",
              "      <td>70</td>\n",
              "      <td>546</td>\n",
              "      <td>1</td>\n",
              "    </tr>\n",
              "    <tr>\n",
              "      <th>103</th>\n",
              "      <td>94</td>\n",
              "      <td>2023</td>\n",
              "      <td>Papua Tengah</td>\n",
              "      <td>54</td>\n",
              "      <td>16</td>\n",
              "      <td>17</td>\n",
              "      <td>5</td>\n",
              "      <td>85</td>\n",
              "      <td>26</td>\n",
              "      <td>163</td>\n",
              "      <td>51</td>\n",
              "      <td>321</td>\n",
              "      <td>1</td>\n",
              "    </tr>\n",
              "    <tr>\n",
              "      <th>104</th>\n",
              "      <td>95</td>\n",
              "      <td>2023</td>\n",
              "      <td>Papua Pegunungan</td>\n",
              "      <td>62</td>\n",
              "      <td>35</td>\n",
              "      <td>5</td>\n",
              "      <td>3</td>\n",
              "      <td>83</td>\n",
              "      <td>47</td>\n",
              "      <td>25</td>\n",
              "      <td>14</td>\n",
              "      <td>177</td>\n",
              "      <td>1</td>\n",
              "    </tr>\n",
              "    <tr>\n",
              "      <th>105</th>\n",
              "      <td>96</td>\n",
              "      <td>2023</td>\n",
              "      <td>Papua Barat Daya</td>\n",
              "      <td>324</td>\n",
              "      <td>33</td>\n",
              "      <td>91</td>\n",
              "      <td>9</td>\n",
              "      <td>10</td>\n",
              "      <td>1</td>\n",
              "      <td>555</td>\n",
              "      <td>56</td>\n",
              "      <td>982</td>\n",
              "      <td>1</td>\n",
              "    </tr>\n",
              "  </tbody>\n",
              "</table>\n",
              "<p>106 rows × 13 columns</p>\n",
              "</div>\n",
              "    <div class=\"colab-df-buttons\">\n",
              "\n",
              "  <div class=\"colab-df-container\">\n",
              "    <button class=\"colab-df-convert\" onclick=\"convertToInteractive('df-fed6d38e-dfe3-424b-834b-c651d9977a3c')\"\n",
              "            title=\"Convert this dataframe to an interactive table.\"\n",
              "            style=\"display:none;\">\n",
              "\n",
              "  <svg xmlns=\"http://www.w3.org/2000/svg\" height=\"24px\" viewBox=\"0 -960 960 960\">\n",
              "    <path d=\"M120-120v-720h720v720H120Zm60-500h600v-160H180v160Zm220 220h160v-160H400v160Zm0 220h160v-160H400v160ZM180-400h160v-160H180v160Zm440 0h160v-160H620v160ZM180-180h160v-160H180v160Zm440 0h160v-160H620v160Z\"/>\n",
              "  </svg>\n",
              "    </button>\n",
              "\n",
              "  <style>\n",
              "    .colab-df-container {\n",
              "      display:flex;\n",
              "      gap: 12px;\n",
              "    }\n",
              "\n",
              "    .colab-df-convert {\n",
              "      background-color: #E8F0FE;\n",
              "      border: none;\n",
              "      border-radius: 50%;\n",
              "      cursor: pointer;\n",
              "      display: none;\n",
              "      fill: #1967D2;\n",
              "      height: 32px;\n",
              "      padding: 0 0 0 0;\n",
              "      width: 32px;\n",
              "    }\n",
              "\n",
              "    .colab-df-convert:hover {\n",
              "      background-color: #E2EBFA;\n",
              "      box-shadow: 0px 1px 2px rgba(60, 64, 67, 0.3), 0px 1px 3px 1px rgba(60, 64, 67, 0.15);\n",
              "      fill: #174EA6;\n",
              "    }\n",
              "\n",
              "    .colab-df-buttons div {\n",
              "      margin-bottom: 4px;\n",
              "    }\n",
              "\n",
              "    [theme=dark] .colab-df-convert {\n",
              "      background-color: #3B4455;\n",
              "      fill: #D2E3FC;\n",
              "    }\n",
              "\n",
              "    [theme=dark] .colab-df-convert:hover {\n",
              "      background-color: #434B5C;\n",
              "      box-shadow: 0px 1px 3px 1px rgba(0, 0, 0, 0.15);\n",
              "      filter: drop-shadow(0px 1px 2px rgba(0, 0, 0, 0.3));\n",
              "      fill: #FFFFFF;\n",
              "    }\n",
              "  </style>\n",
              "\n",
              "    <script>\n",
              "      const buttonEl =\n",
              "        document.querySelector('#df-fed6d38e-dfe3-424b-834b-c651d9977a3c button.colab-df-convert');\n",
              "      buttonEl.style.display =\n",
              "        google.colab.kernel.accessAllowed ? 'block' : 'none';\n",
              "\n",
              "      async function convertToInteractive(key) {\n",
              "        const element = document.querySelector('#df-fed6d38e-dfe3-424b-834b-c651d9977a3c');\n",
              "        const dataTable =\n",
              "          await google.colab.kernel.invokeFunction('convertToInteractive',\n",
              "                                                    [key], {});\n",
              "        if (!dataTable) return;\n",
              "\n",
              "        const docLinkHtml = 'Like what you see? Visit the ' +\n",
              "          '<a target=\"_blank\" href=https://colab.research.google.com/notebooks/data_table.ipynb>data table notebook</a>'\n",
              "          + ' to learn more about interactive tables.';\n",
              "        element.innerHTML = '';\n",
              "        dataTable['output_type'] = 'display_data';\n",
              "        await google.colab.output.renderOutput(dataTable, element);\n",
              "        const docLink = document.createElement('div');\n",
              "        docLink.innerHTML = docLinkHtml;\n",
              "        element.appendChild(docLink);\n",
              "      }\n",
              "    </script>\n",
              "  </div>\n",
              "\n",
              "\n",
              "<div id=\"df-89f49438-d1c9-4697-8dc2-fe8701f7e95b\">\n",
              "  <button class=\"colab-df-quickchart\" onclick=\"quickchart('df-89f49438-d1c9-4697-8dc2-fe8701f7e95b')\"\n",
              "            title=\"Suggest charts\"\n",
              "            style=\"display:none;\">\n",
              "\n",
              "<svg xmlns=\"http://www.w3.org/2000/svg\" height=\"24px\"viewBox=\"0 0 24 24\"\n",
              "     width=\"24px\">\n",
              "    <g>\n",
              "        <path d=\"M19 3H5c-1.1 0-2 .9-2 2v14c0 1.1.9 2 2 2h14c1.1 0 2-.9 2-2V5c0-1.1-.9-2-2-2zM9 17H7v-7h2v7zm4 0h-2V7h2v10zm4 0h-2v-4h2v4z\"/>\n",
              "    </g>\n",
              "</svg>\n",
              "  </button>\n",
              "\n",
              "<style>\n",
              "  .colab-df-quickchart {\n",
              "      --bg-color: #E8F0FE;\n",
              "      --fill-color: #1967D2;\n",
              "      --hover-bg-color: #E2EBFA;\n",
              "      --hover-fill-color: #174EA6;\n",
              "      --disabled-fill-color: #AAA;\n",
              "      --disabled-bg-color: #DDD;\n",
              "  }\n",
              "\n",
              "  [theme=dark] .colab-df-quickchart {\n",
              "      --bg-color: #3B4455;\n",
              "      --fill-color: #D2E3FC;\n",
              "      --hover-bg-color: #434B5C;\n",
              "      --hover-fill-color: #FFFFFF;\n",
              "      --disabled-bg-color: #3B4455;\n",
              "      --disabled-fill-color: #666;\n",
              "  }\n",
              "\n",
              "  .colab-df-quickchart {\n",
              "    background-color: var(--bg-color);\n",
              "    border: none;\n",
              "    border-radius: 50%;\n",
              "    cursor: pointer;\n",
              "    display: none;\n",
              "    fill: var(--fill-color);\n",
              "    height: 32px;\n",
              "    padding: 0;\n",
              "    width: 32px;\n",
              "  }\n",
              "\n",
              "  .colab-df-quickchart:hover {\n",
              "    background-color: var(--hover-bg-color);\n",
              "    box-shadow: 0 1px 2px rgba(60, 64, 67, 0.3), 0 1px 3px 1px rgba(60, 64, 67, 0.15);\n",
              "    fill: var(--button-hover-fill-color);\n",
              "  }\n",
              "\n",
              "  .colab-df-quickchart-complete:disabled,\n",
              "  .colab-df-quickchart-complete:disabled:hover {\n",
              "    background-color: var(--disabled-bg-color);\n",
              "    fill: var(--disabled-fill-color);\n",
              "    box-shadow: none;\n",
              "  }\n",
              "\n",
              "  .colab-df-spinner {\n",
              "    border: 2px solid var(--fill-color);\n",
              "    border-color: transparent;\n",
              "    border-bottom-color: var(--fill-color);\n",
              "    animation:\n",
              "      spin 1s steps(1) infinite;\n",
              "  }\n",
              "\n",
              "  @keyframes spin {\n",
              "    0% {\n",
              "      border-color: transparent;\n",
              "      border-bottom-color: var(--fill-color);\n",
              "      border-left-color: var(--fill-color);\n",
              "    }\n",
              "    20% {\n",
              "      border-color: transparent;\n",
              "      border-left-color: var(--fill-color);\n",
              "      border-top-color: var(--fill-color);\n",
              "    }\n",
              "    30% {\n",
              "      border-color: transparent;\n",
              "      border-left-color: var(--fill-color);\n",
              "      border-top-color: var(--fill-color);\n",
              "      border-right-color: var(--fill-color);\n",
              "    }\n",
              "    40% {\n",
              "      border-color: transparent;\n",
              "      border-right-color: var(--fill-color);\n",
              "      border-top-color: var(--fill-color);\n",
              "    }\n",
              "    60% {\n",
              "      border-color: transparent;\n",
              "      border-right-color: var(--fill-color);\n",
              "    }\n",
              "    80% {\n",
              "      border-color: transparent;\n",
              "      border-right-color: var(--fill-color);\n",
              "      border-bottom-color: var(--fill-color);\n",
              "    }\n",
              "    90% {\n",
              "      border-color: transparent;\n",
              "      border-bottom-color: var(--fill-color);\n",
              "    }\n",
              "  }\n",
              "</style>\n",
              "\n",
              "  <script>\n",
              "    async function quickchart(key) {\n",
              "      const quickchartButtonEl =\n",
              "        document.querySelector('#' + key + ' button');\n",
              "      quickchartButtonEl.disabled = true;  // To prevent multiple clicks.\n",
              "      quickchartButtonEl.classList.add('colab-df-spinner');\n",
              "      try {\n",
              "        const charts = await google.colab.kernel.invokeFunction(\n",
              "            'suggestCharts', [key], {});\n",
              "      } catch (error) {\n",
              "        console.error('Error during call to suggestCharts:', error);\n",
              "      }\n",
              "      quickchartButtonEl.classList.remove('colab-df-spinner');\n",
              "      quickchartButtonEl.classList.add('colab-df-quickchart-complete');\n",
              "    }\n",
              "    (() => {\n",
              "      let quickchartButtonEl =\n",
              "        document.querySelector('#df-89f49438-d1c9-4697-8dc2-fe8701f7e95b button');\n",
              "      quickchartButtonEl.style.display =\n",
              "        google.colab.kernel.accessAllowed ? 'block' : 'none';\n",
              "    })();\n",
              "  </script>\n",
              "</div>\n",
              "\n",
              "  <div id=\"id_b016aeb1-e92c-4898-b719-b0d81d9b8671\">\n",
              "    <style>\n",
              "      .colab-df-generate {\n",
              "        background-color: #E8F0FE;\n",
              "        border: none;\n",
              "        border-radius: 50%;\n",
              "        cursor: pointer;\n",
              "        display: none;\n",
              "        fill: #1967D2;\n",
              "        height: 32px;\n",
              "        padding: 0 0 0 0;\n",
              "        width: 32px;\n",
              "      }\n",
              "\n",
              "      .colab-df-generate:hover {\n",
              "        background-color: #E2EBFA;\n",
              "        box-shadow: 0px 1px 2px rgba(60, 64, 67, 0.3), 0px 1px 3px 1px rgba(60, 64, 67, 0.15);\n",
              "        fill: #174EA6;\n",
              "      }\n",
              "\n",
              "      [theme=dark] .colab-df-generate {\n",
              "        background-color: #3B4455;\n",
              "        fill: #D2E3FC;\n",
              "      }\n",
              "\n",
              "      [theme=dark] .colab-df-generate:hover {\n",
              "        background-color: #434B5C;\n",
              "        box-shadow: 0px 1px 3px 1px rgba(0, 0, 0, 0.15);\n",
              "        filter: drop-shadow(0px 1px 2px rgba(0, 0, 0, 0.3));\n",
              "        fill: #FFFFFF;\n",
              "      }\n",
              "    </style>\n",
              "    <button class=\"colab-df-generate\" onclick=\"generateWithVariable('data')\"\n",
              "            title=\"Generate code using this dataframe.\"\n",
              "            style=\"display:none;\">\n",
              "\n",
              "  <svg xmlns=\"http://www.w3.org/2000/svg\" height=\"24px\"viewBox=\"0 0 24 24\"\n",
              "       width=\"24px\">\n",
              "    <path d=\"M7,19H8.4L18.45,9,17,7.55,7,17.6ZM5,21V16.75L18.45,3.32a2,2,0,0,1,2.83,0l1.4,1.43a1.91,1.91,0,0,1,.58,1.4,1.91,1.91,0,0,1-.58,1.4L9.25,21ZM18.45,9,17,7.55Zm-12,3A5.31,5.31,0,0,0,4.9,8.1,5.31,5.31,0,0,0,1,6.5,5.31,5.31,0,0,0,4.9,4.9,5.31,5.31,0,0,0,6.5,1,5.31,5.31,0,0,0,8.1,4.9,5.31,5.31,0,0,0,12,6.5,5.46,5.46,0,0,0,6.5,12Z\"/>\n",
              "  </svg>\n",
              "    </button>\n",
              "    <script>\n",
              "      (() => {\n",
              "      const buttonEl =\n",
              "        document.querySelector('#id_b016aeb1-e92c-4898-b719-b0d81d9b8671 button.colab-df-generate');\n",
              "      buttonEl.style.display =\n",
              "        google.colab.kernel.accessAllowed ? 'block' : 'none';\n",
              "\n",
              "      buttonEl.onclick = () => {\n",
              "        google.colab.notebook.generateWithVariable('data');\n",
              "      }\n",
              "      })();\n",
              "    </script>\n",
              "  </div>\n",
              "\n",
              "    </div>\n",
              "  </div>\n"
            ],
            "application/vnd.google.colaboratory.intrinsic+json": {
              "type": "dataframe",
              "variable_name": "data",
              "summary": "{\n  \"name\": \"data\",\n  \"rows\": 106,\n  \"fields\": [\n    {\n      \"column\": \"Kd_Prov\",\n      \"properties\": {\n        \"dtype\": \"number\",\n        \"std\": 27,\n        \"min\": 11,\n        \"max\": 96,\n        \"num_unique_values\": 38,\n        \"samples\": [\n          94,\n          95,\n          15\n        ],\n        \"semantic_type\": \"\",\n        \"description\": \"\"\n      }\n    },\n    {\n      \"column\": \"Tahun\",\n      \"properties\": {\n        \"dtype\": \"object\",\n        \"num_unique_values\": 3,\n        \"samples\": [\n          \"2021\",\n          \"2022\",\n          \"2023\"\n        ],\n        \"semantic_type\": \"\",\n        \"description\": \"\"\n      }\n    },\n    {\n      \"column\": \"Provinsi\",\n      \"properties\": {\n        \"dtype\": \"category\",\n        \"num_unique_values\": 39,\n        \"samples\": [\n          \"Papua\",\n          \"Papua Tengah\",\n          \"Jambi\"\n        ],\n        \"semantic_type\": \"\",\n        \"description\": \"\"\n      }\n    },\n    {\n      \"column\": \"Kondisi_Baik\",\n      \"properties\": {\n        \"dtype\": \"number\",\n        \"std\": 456,\n        \"min\": 0,\n        \"max\": 1852,\n        \"num_unique_values\": 89,\n        \"samples\": [\n          257,\n          774,\n          477\n        ],\n        \"semantic_type\": \"\",\n        \"description\": \"\"\n      }\n    },\n    {\n      \"column\": \"Baik_%\",\n      \"properties\": {\n        \"dtype\": \"number\",\n        \"std\": 21,\n        \"min\": 0,\n        \"max\": 88,\n        \"num_unique_values\": 54,\n        \"samples\": [\n          10,\n          80,\n          12\n        ],\n        \"semantic_type\": \"\",\n        \"description\": \"\"\n      }\n    },\n    {\n      \"column\": \"Kondisi_Sedang\",\n      \"properties\": {\n        \"dtype\": \"number\",\n        \"std\": 229,\n        \"min\": 0,\n        \"max\": 1188,\n        \"num_unique_values\": 94,\n        \"samples\": [\n          110,\n          475,\n          178\n        ],\n        \"semantic_type\": \"\",\n        \"description\": \"\"\n      }\n    },\n    {\n      \"column\": \"Sedang_%\",\n      \"properties\": {\n        \"dtype\": \"number\",\n        \"std\": 13,\n        \"min\": 0,\n        \"max\": 55,\n        \"num_unique_values\": 44,\n        \"samples\": [\n          8,\n          6,\n          4\n        ],\n        \"semantic_type\": \"\",\n        \"description\": \"\"\n      }\n    },\n    {\n      \"column\": \"Kondisi_RR\",\n      \"properties\": {\n        \"dtype\": \"number\",\n        \"std\": 143,\n        \"min\": 0,\n        \"max\": 829,\n        \"num_unique_values\": 87,\n        \"samples\": [\n          6,\n          61,\n          101\n        ],\n        \"semantic_type\": \"\",\n        \"description\": \"\"\n      }\n    },\n    {\n      \"column\": \"RR_%\",\n      \"properties\": {\n        \"dtype\": \"number\",\n        \"std\": 10,\n        \"min\": 0,\n        \"max\": 47,\n        \"num_unique_values\": 33,\n        \"samples\": [\n          40,\n          31,\n          22\n        ],\n        \"semantic_type\": \"\",\n        \"description\": \"\"\n      }\n    },\n    {\n      \"column\": \"Kondisi_RB\",\n      \"properties\": {\n        \"dtype\": \"number\",\n        \"std\": 211,\n        \"min\": 0,\n        \"max\": 921,\n        \"num_unique_values\": 85,\n        \"samples\": [\n          396,\n          306,\n          77\n        ],\n        \"semantic_type\": \"\",\n        \"description\": \"\"\n      }\n    },\n    {\n      \"column\": \"RB_%\",\n      \"properties\": {\n        \"dtype\": \"number\",\n        \"std\": 16,\n        \"min\": 0,\n        \"max\": 85,\n        \"num_unique_values\": 39,\n        \"samples\": [\n          20,\n          70,\n          11\n        ],\n        \"semantic_type\": \"\",\n        \"description\": \"\"\n      }\n    },\n    {\n      \"column\": \"Total_Panjang\",\n      \"properties\": {\n        \"dtype\": \"number\",\n        \"std\": 825,\n        \"min\": 0,\n        \"max\": 3048,\n        \"num_unique_values\": 50,\n        \"samples\": [\n          760,\n          999,\n          1276\n        ],\n        \"semantic_type\": \"\",\n        \"description\": \"\"\n      }\n    },\n    {\n      \"column\": \"Cluster\",\n      \"properties\": {\n        \"dtype\": \"int32\",\n        \"num_unique_values\": 3,\n        \"samples\": [\n          3,\n          2,\n          1\n        ],\n        \"semantic_type\": \"\",\n        \"description\": \"\"\n      }\n    }\n  ]\n}"
            }
          },
          "metadata": {},
          "execution_count": 76
        }
      ]
    },
    {
      "cell_type": "markdown",
      "source": [
        "dari dataset diatas yang sudah dilakukan clustering dengan metode K-Means.\n",
        "\n",
        "\n"
      ],
      "metadata": {
        "id": "K7E7S1PNppI_"
      }
    },
    {
      "cell_type": "code",
      "source": [
        "# visualisasi cluster berdasarkan tahun\n",
        "plt.figure(figsize=(8, 5))\n",
        "sns.countplot(data=data, x='Tahun', hue='Cluster')\n",
        "plt.title('Cluster berdasarkan Tahun')\n",
        "plt.xlabel('Tahun')\n",
        "plt.ylabel('Jumlah Provinsi')\n",
        "plt.legend(title='Cluster')\n",
        "plt.grid(axis='y', linestyle='--', alpha=0.7)\n",
        "plt.show()"
      ],
      "metadata": {
        "id": "IhWSGOsOsUna",
        "colab": {
          "base_uri": "https://localhost:8080/",
          "height": 487
        },
        "outputId": "3adf031f-0f81-4cd3-e3db-2ae3fcf9bad0"
      },
      "execution_count": null,
      "outputs": [
        {
          "output_type": "display_data",
          "data": {
            "text/plain": [
              "<Figure size 800x500 with 1 Axes>"
            ],
            "image/png": "[encoded data removed]"
          },
          "metadata": {}
        }
      ]
    },
    {
      "cell_type": "markdown",
      "source": [
        "**Interpretasi**\n",
        "difokuskan untuk penanganan perbaikan pada cluster 2 dan 3, sementara untuk cluster 1 dilakukan pemantauan agar tidak menambah jumlah kesurakan jalan pada beberapa provinsi agar tidak menyebabkan cluster 2 dan 3 naik."
      ],
      "metadata": {
        "id": "Hib40F3jKEbg"
      }
    },
    {
      "cell_type": "code",
      "source": [
        "\n",
        "# Visualisasi cluster berdasarkan Kondisi_RR dan Kondisi_RB\n",
        "plt.figure(figsize=(10, 3))\n",
        "sns.scatterplot(x='Kondisi_RR', y='Kondisi_RB', hue='Cluster', data=data, palette='viridis')\n",
        "plt.title('Visualisasi Cluster berdasarkan Kondisi Jalan Rusak')\n",
        "plt.xlabel('Kondisi Jalan Rusak Ringan (Kondisi_RR)')\n",
        "plt.ylabel('Kondisi Jalan Rusak Berat (Kondisi_RB)')\n",
        "plt.legend(title='Cluster')\n",
        "plt.show()\n",
        "\n",
        "# Visualisasi cluster berdasarkan Total_Panjang dan Kondisi_RB\n",
        "plt.figure(figsize=(10, 3))\n",
        "sns.scatterplot(x='Total_Panjang', y='Kondisi_RB', hue='Cluster', data=data, palette='viridis')\n",
        "plt.title('Visualisasi Cluster berdasarkan Panjang Jalan dan Kondisi Rusak Berat')\n",
        "plt.xlabel('Total Panjang Jalan (km)')\n",
        "plt.ylabel('Kondisi Jalan Rusak Berat (Kondisi_RB)')\n",
        "plt.legend(title='Cluster')\n",
        "plt.show()\n",
        "\n",
        "# Visualisasi cluster berdasarkan Total_Panjang dan Kondisi_RR\n",
        "plt.figure(figsize=(10, 3))\n",
        "sns.scatterplot(x='Total_Panjang', y='Kondisi_RR', hue='Cluster', data=data, palette='viridis')\n",
        "plt.title('Visualisasi Cluster berdasarkan Panjang Jalan dan Kondisi Rusak Ringan')\n",
        "plt.xlabel('Total Panjang Jalan (km)')\n",
        "plt.ylabel('Kondisi Jalan Rusak Ringan (Kondisi_RR)')\n",
        "plt.legend(title='Cluster')\n",
        "plt.show()"
      ],
      "metadata": {
        "colab": {
          "base_uri": "https://localhost:8080/",
          "height": 965
        },
        "id": "YS1WNvOqv4HK",
        "outputId": "3b5bc828-fd0c-4d6e-a94e-524925543995"
      },
      "execution_count": null,
      "outputs": [
        {
          "output_type": "display_data",
          "data": {
            "text/plain": [
              "<Figure size 1000x300 with 1 Axes>"
            ],
            "image/png": "[encoded data removed]"
          },
          "metadata": {}
        },
        {
          "output_type": "display_data",
          "data": {
            "text/plain": [
              "<Figure size 1000x300 with 1 Axes>"
            ],
            "image/png": "[encoded data removed]"
          },
          "metadata": {}
        },
        {
          "output_type": "display_data",
          "data": {
            "text/plain": [
              "<Figure size 1000x300 with 1 Axes>"
            ],
            "image/png": "[encoded data removed]"
          },
          "metadata": {}
        }
      ]
    },
    {
      "cell_type": "markdown",
      "source": [
        "##**J.62DMI00.014.1 - Mengevaluasi Hasil Pemodelan**\n"
      ],
      "metadata": {
        "id": "qc-yCnDsyjbd"
      }
    },
    {
      "cell_type": "markdown",
      "source": [
        "###**Evaluasi Model dengan Devies-Bouldin Index(DBI)**"
      ],
      "metadata": {
        "id": "B_qtudx55f2s"
      }
    },
    {
      "cell_type": "code",
      "source": [
        "from sklearn.metrics import davies_bouldin_score\n",
        "\n",
        "# Menghitung Davies-Bouldin Index (DBI)\n",
        "dbi_score = davies_bouldin_score(data_scaled, data['Cluster'])\n",
        "\n",
        "print(f\"Davies-Bouldin Index (DBI): {dbi_score}\")\n"
      ],
      "metadata": {
        "colab": {
          "base_uri": "https://localhost:8080/"
        },
        "id": "kLofRp6zyw3q",
        "outputId": "f7315975-84a4-44e7-c496-261921dfcf62"
      },
      "execution_count": null,
      "outputs": [
        {
          "output_type": "stream",
          "name": "stdout",
          "text": [
            "Davies-Bouldin Index (DBI): 1.3631268187162882\n"
          ]
        }
      ]
    },
    {
      "cell_type": "markdown",
      "source": [
        "Nilai DBI = 1.36 menunjukkan bahwa kualitas klastering cukup baik.\n",
        "Nilai DBI di bawah 1.5 dianggap dapat diterima untuk penelitian diluar medis/rekayasa.\n",
        "Klaster cukup terpisah, tetapi mungkin masih ada tumpang tindih antar klaster atau beberapa data yang tidak terlalu rapat di dalam klasternya."
      ],
      "metadata": {
        "id": "OPZSoU5mz5Sc"
      }
    },
    {
      "cell_type": "markdown",
      "source": [
        "###**Evaluasi Model dengan Score Silhouette**"
      ],
      "metadata": {
        "id": "XzInPo625qtP"
      }
    },
    {
      "source": [
        "from sklearn.metrics import silhouette_score, silhouette_samples\n",
        "import matplotlib.cm as cm\n",
        "import numpy as np\n",
        "import matplotlib.pyplot as plt\n",
        "\n",
        "# Menghitung skor siluet\n",
        "silhouette_avg = silhouette_score(data_scaled, data['Cluster'])\n",
        "print(f\"Silhouette Score: {silhouette_avg}\")\n",
        "\n",
        "# Menghitung skor siluet untuk setiap cluster\n",
        "sample_silhouette_values = silhouette_samples(data_scaled, data['Cluster'])\n",
        "\n",
        "# Memplot skor siluet\n",
        "plt.figure(figsize=(8, 6))\n",
        "for i in range(optimal_clusters):\n",
        "    ith_cluster_silhouette_values = sample_silhouette_values[data['Cluster'] == i+1]\n",
        "    ith_cluster_silhouette_values.sort()\n",
        "\n",
        "    size_cluster_i = ith_cluster_silhouette_values.shape[0]\n",
        "    y_lower = 0\n",
        "    y_upper = y_lower + size_cluster_i\n",
        "\n",
        "    color = cm.nipy_spectral(float(i) / optimal_clusters)\n",
        "    plt.fill_betweenx(np.arange(y_lower, y_upper),\n",
        "                      0, ith_cluster_silhouette_values,\n",
        "                      facecolor=color, edgecolor=color, alpha=0.7)\n",
        "\n",
        "    # Label the silhouette plots\n",
        "    plt.text(-0.05, y_lower + 0.5 * size_cluster_i, str(i+1))\n",
        "\n",
        "    # Compute the new y_lower for next plot\n",
        "    y_lower = y_upper + 10\n",
        "\n",
        "plt.title(\"Silhouette plot for the various clusters.\")\n",
        "plt.xlabel(\"The silhouette coefficient values\")\n",
        "plt.ylabel(\"Cluster label\")\n",
        "\n",
        "# The vertical line for average silhouette score of all the values\n",
        "plt.axvline(x=silhouette_avg, color=\"red\", linestyle=\"--\")\n",
        "\n",
        "plt.yticks([])  # Clear the yaxis labels / ticks\n",
        "plt.xticks([-0.1, 0, 0.2, 0.4, 0.6, 0.8, 1])\n",
        "plt.show()"
      ],
      "cell_type": "code",
      "metadata": {
        "colab": {
          "base_uri": "https://localhost:8080/",
          "height": 581
        },
        "id": "oiqY_pFa3DGH",
        "outputId": "9c1c624c-da0f-4b68-9fa1-1925a9487eae"
      },
      "execution_count": null,
      "outputs": [
        {
          "output_type": "stream",
          "name": "stdout",
          "text": [
            "Silhouette Score: 0.2426583518572155\n"
          ]
        },
        {
          "output_type": "display_data",
          "data": {
            "text/plain": [
              "<Figure size 800x600 with 1 Axes>"
            ],
            "image/png": "[encoded data removed]"
          },
          "metadata": {}
        }
      ]
    },
    {
      "cell_type": "markdown",
      "source": [
        "Rata-Rata Silhouette Score (Garis merah vertikal):\n",
        "Nilai rata-rata silhouette score dalam plot berada sekitar 0.2.\n",
        "Nilai ini menunjukkan bahwa klastering tidak terlalu kuat. Data cenderung tidak terlalu terpisah antara klaster, atau klaster saling tumpang tindih.\n",
        "Klaster 1 dan Klaster 3 memiliki distribusi yang lebih lebar dan lebih baik dibanding Klaster 2.\n",
        "Klaster 2 memiliki banyak data dengan nilai silhouette mendekati atau di bawah nol, menunjukkan bahwa beberapa titik di klaster ini mungkin salah klastering atau dekat dengan klaster lain.\n"
      ],
      "metadata": {
        "id": "n7A6ewj43w6s"
      }
    }
  ]
}